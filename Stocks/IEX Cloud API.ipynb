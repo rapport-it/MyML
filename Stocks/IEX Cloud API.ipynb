{
 "cells": [
  {
   "cell_type": "code",
   "execution_count": 31,
   "metadata": {},
   "outputs": [],
   "source": [
    "import pandas as pd\n",
    "import numpy as np\n",
    "import statistics\n",
    "import requests\n",
    "import json\n",
    "import operator"
   ]
  },
  {
   "cell_type": "markdown",
   "metadata": {},
   "source": [
    "## Common Methods"
   ]
  },
  {
   "cell_type": "code",
   "execution_count": 3,
   "metadata": {},
   "outputs": [],
   "source": [
    "def callApi(method, stock,isEarnings = False ):\n",
    "    key = \"token=\" + \"pk_ee5af08dfb9a419aaba2cbee77b80165\"\n",
    "    host = \"https://cloud.iexapis.com/stable/\"\n",
    "    ticker = \"stock/\"+ stock\n",
    "    api_method =\"/\" + method \n",
    "    query = \"?\"\n",
    "    add = \"&\"\n",
    "    last = \"/10\"\n",
    "    period = \"period=annual\"\n",
    "    if isEarnings:\n",
    "        url = host + ticker + api_method + last + query + period + add + key \n",
    "    else:\n",
    "        url = host + ticker + api_method + query + key \n",
    "    try:\n",
    "        response = requests.request(\"GET\", url)\n",
    "        balance_sheet = json.loads(response.text)\n",
    "        return balance_sheet\n",
    "    except ValueError:\n",
    "        print(\"Unknown expeption on\" + stock)\n",
    "        return {}"
   ]
  },
  {
   "cell_type": "code",
   "execution_count": 4,
   "metadata": {},
   "outputs": [],
   "source": [
    "def addTTMToYearLists(method,lists,ttmList):\n",
    "    reportDate = \"reportDate\"\n",
    "    if method == \"earnings\":\n",
    "        reportDate = \"EPSReportDate\"\n",
    "    if not (method in ttmList.keys()):\n",
    "        return lists\n",
    "    first = lists[method][0]\n",
    "    ttm = ttmList[method][0]\n",
    "    if first[reportDate] != ttm[reportDate]: \n",
    "        lists[method].insert(0, ttmList[method][0])\n",
    "    return lists"
   ]
  },
  {
   "cell_type": "markdown",
   "metadata": {},
   "source": [
    "## Ratio Methods"
   ]
  },
  {
   "cell_type": "code",
   "execution_count": 5,
   "metadata": {},
   "outputs": [],
   "source": [
    "def peRatio(quote):\n",
    "    if \"peRatio\" in quote.keys() and quote[\"peRatio\"] is not None:\n",
    "        return float(quote[\"peRatio\"])\n",
    "    return 0.0"
   ]
  },
  {
   "cell_type": "code",
   "execution_count": 6,
   "metadata": {},
   "outputs": [],
   "source": [
    "def priceToBook(stats):\n",
    "    if \"priceToBook\" in stats.keys() and stats[\"priceToBook\"] is not None:\n",
    "        return float(stats[\"priceToBook\"])\n",
    "    return 0.0"
   ]
  },
  {
   "cell_type": "code",
   "execution_count": 7,
   "metadata": {},
   "outputs": [],
   "source": [
    "def debtToEquity(stats):\n",
    "    if \"debtToEquity\" in stats.keys() and stats[\"debtToEquity\"] is not None:\n",
    "        return float(stats[\"debtToEquity\"])\n",
    "    return 0.0 "
   ]
  },
  {
   "cell_type": "code",
   "execution_count": 8,
   "metadata": {},
   "outputs": [],
   "source": [
    "def pegRatio(stats):\n",
    "    if stats[\"pegRatio\"] is not None:\n",
    "        return float(stats[\"pegRatio\"])\n",
    "    return 0.0"
   ]
  },
  {
   "cell_type": "code",
   "execution_count": 9,
   "metadata": {},
   "outputs": [],
   "source": [
    "def sharesoutstanding(stats):\n",
    "    if stats[\"sharesOutstanding\"] is not None:\n",
    "        return float(stats[\"sharesOutstanding\"])\n",
    "    return 0.0"
   ]
  },
  {
   "cell_type": "code",
   "execution_count": 22,
   "metadata": {},
   "outputs": [],
   "source": [
    "def marketCap(quote):\n",
    "    if \"marketCap\" in quote.keys() and quote[\"marketCap\"] is not None:\n",
    "        return quote[\"marketCap\"]\n",
    "    return 0 "
   ]
  },
  {
   "cell_type": "code",
   "execution_count": 10,
   "metadata": {},
   "outputs": [],
   "source": [
    "# Current Ratio= Current Assets / Current Liabilities\n",
    "def currentRatio(balance_sheet):\n",
    "    if not(\"balancesheet\" in balance_sheet.keys()) or len(balance_sheet[\"balancesheet\"]) == 0:\n",
    "        return 0.0\n",
    "    latest_balance_sheet = balance_sheet[\"balancesheet\"][0]\n",
    "    if not(\"totalAssets\" in latest_balance_sheet.keys()) and not(\"totalLiabilities\" in latest_balance_sheet.keys()):\n",
    "        return 0.0\n",
    "    return float(latest_balance_sheet[\"totalAssets\"] / latest_balance_sheet[\"totalLiabilities\"])\n",
    "    "
   ]
  },
  {
   "cell_type": "code",
   "execution_count": 11,
   "metadata": {},
   "outputs": [],
   "source": [
    "def checkErningProgression(earnings, earning):\n",
    "    earnings = addTTMToYearLists(\"earnings\", earnings, earning)\n",
    "    if not(\"earnings\" in earnings.keys()) or len(earnings[\"earnings\"]) == 0:\n",
    "        return False\n",
    "    earningsSet = earnings[\"earnings\"][:-1]\n",
    "    yearAgoChangePercent = np.array([])\n",
    "    for earning in earningsSet:\n",
    "        if not(\"yearAgoChangePercent\" in earning.keys()):\n",
    "            return False\n",
    "        yearAgoChangePercent = np.append(yearAgoChangePercent, earning[\"yearAgoChangePercent\"])\n",
    "    isDecending = (yearAgoChangePercent == np.sort(yearAgoChangePercent)[::-1]).all()\n",
    "    return isDecending"
   ]
  },
  {
   "cell_type": "code",
   "execution_count": 12,
   "metadata": {},
   "outputs": [],
   "source": [
    "def sharesOutstanding(stats):\n",
    "    if stats[\"sharesOutstanding\"] is not None:\n",
    "        return float(stats[\"sharesOutstanding\"])\n",
    "    return 0.0"
   ]
  },
  {
   "cell_type": "code",
   "execution_count": 37,
   "metadata": {},
   "outputs": [],
   "source": [
    "def NetCurrentAssetValuePerShare(balanceSheet, stats, price):\n",
    "    #Net Current Asset Value = Current Assets – (Current Liabilities + Long-Term Liabilities) \n",
    "    shares_Outstanding = sharesOutstanding(stats)\n",
    "    if \"balancesheet\" in balance_sheet.keys() and len(balance_sheet[\"balancesheet\"]) > 0 and shares_Outstanding !=0:\n",
    "        latest_balance_sheet = balance_sheet[\"balancesheet\"][0]\n",
    "        if \"currentAssets\" in latest_balance_sheet.keys() and \"totalLiabilities\" in latest_balance_sheet.keys() and \"minorityInterest\" in latest_balance_sheet.keys():\n",
    "            netCurrentAssetValue = (latest_balance_sheet[\"currentAssets\"] - latest_balance_sheet[\"totalLiabilities\"] - latest_balance_sheet[\"minorityInterest\"]) / shares_Outstanding\n",
    "            return price/netCurrentAssetValue\n",
    "    return 0"
   ]
  },
  {
   "cell_type": "code",
   "execution_count": 43,
   "metadata": {},
   "outputs": [
    {
     "data": {
      "text/html": [
       "<div>\n",
       "<style scoped>\n",
       "    .dataframe tbody tr th:only-of-type {\n",
       "        vertical-align: middle;\n",
       "    }\n",
       "\n",
       "    .dataframe tbody tr th {\n",
       "        vertical-align: top;\n",
       "    }\n",
       "\n",
       "    .dataframe thead th {\n",
       "        text-align: right;\n",
       "    }\n",
       "</style>\n",
       "<table border=\"1\" class=\"dataframe\">\n",
       "  <thead>\n",
       "    <tr style=\"text-align: right;\">\n",
       "      <th></th>\n",
       "      <th>Ticker</th>\n",
       "      <th>company Name</th>\n",
       "      <th>Price</th>\n",
       "      <th>Market Cap</th>\n",
       "      <th>52 High</th>\n",
       "      <th>52 Low</th>\n",
       "      <th>PE Ratio &lt; 7</th>\n",
       "      <th>Price To Book &lt; 1</th>\n",
       "      <th>PEG Ratio &lt; 1</th>\n",
       "      <th>Debt to Equity &lt; 0.5</th>\n",
       "      <th>Current Ratio &gt; 3</th>\n",
       "      <th>Earning Progression</th>\n",
       "      <th>NCAVPS &lt;50%</th>\n",
       "      <th>Points(6)</th>\n",
       "    </tr>\n",
       "  </thead>\n",
       "  <tbody>\n",
       "    <tr>\n",
       "      <th>0</th>\n",
       "      <td>DAL</td>\n",
       "      <td>Delta Air Lines, Inc.</td>\n",
       "      <td>32.82</td>\n",
       "      <td>20934466740</td>\n",
       "      <td>62.48</td>\n",
       "      <td>17.51</td>\n",
       "      <td>-5.64</td>\n",
       "      <td>1.363098</td>\n",
       "      <td>0.02</td>\n",
       "      <td>1.12</td>\n",
       "      <td>1.136698</td>\n",
       "      <td>False</td>\n",
       "      <td>-0.469</td>\n",
       "      <td>1</td>\n",
       "    </tr>\n",
       "    <tr>\n",
       "      <th>1</th>\n",
       "      <td>NKE</td>\n",
       "      <td>NIKE, Inc.</td>\n",
       "      <td>119.28</td>\n",
       "      <td>186061293600</td>\n",
       "      <td>119.93</td>\n",
       "      <td>60.00</td>\n",
       "      <td>73.37</td>\n",
       "      <td>18.434276</td>\n",
       "      <td>-0.40</td>\n",
       "      <td>1.62</td>\n",
       "      <td>1.345901</td>\n",
       "      <td>False</td>\n",
       "      <td>-54.371</td>\n",
       "      <td>0</td>\n",
       "    </tr>\n",
       "  </tbody>\n",
       "</table>\n",
       "</div>"
      ],
      "text/plain": [
       "  Ticker           company Name   Price    Market Cap  52 High  52 Low  \\\n",
       "0    DAL  Delta Air Lines, Inc.   32.82   20934466740    62.48   17.51   \n",
       "1    NKE             NIKE, Inc.  119.28  186061293600   119.93   60.00   \n",
       "\n",
       "   PE Ratio < 7  Price To Book < 1  PEG Ratio < 1  Debt to Equity < 0.5  \\\n",
       "0         -5.64           1.363098           0.02                  1.12   \n",
       "1         73.37          18.434276          -0.40                  1.62   \n",
       "\n",
       "   Current Ratio > 3  Earning Progression  NCAVPS <50%  Points(6)  \n",
       "0           1.136698                False       -0.469          1  \n",
       "1           1.345901                False      -54.371          0  "
      ]
     },
     "execution_count": 43,
     "metadata": {},
     "output_type": "execute_result"
    }
   ],
   "source": [
    "tickers = ['DAL', 'NKE']\n",
    "dataSet = [] \n",
    "for ticker in tickers:\n",
    "    data = {}\n",
    "    points = 0\n",
    "    \n",
    "    quote = callApi(\"quote\", ticker)\n",
    "    # Less than 10 million don't comsider\n",
    "    market_cap =  marketCap(quote)\n",
    "    if market_cap < 10000000:\n",
    "        continue\n",
    "    \n",
    "    # Major data set \n",
    "    stats = callApi(\"advanced-stats\", ticker)\n",
    "    earnings = callApi(\"earnings\", ticker, True)\n",
    "    earning = callApi(\"earnings\", ticker)\n",
    "    price = callApi(\"price\", ticker)\n",
    "    balance_sheet = callApi(\"balance-sheet\", ticker)\n",
    "        \n",
    "    data[\"Ticker\"] = ticker\n",
    "    data [\"company Name\"] = quote[\"companyName\"]\n",
    "    data[\"Price\"] = price\n",
    "    data[\"Market Cap\"] = market_cap\n",
    "    data[\"52 High\"] = quote[\"week52High\"]\n",
    "    data[\"52 Low\"] = quote[\"week52Low\"]\n",
    "    \n",
    "    # PE Ratio < 7\n",
    "    pe_ratio = peRatio(quote)\n",
    "    if pe_ratio != 0: \n",
    "        data[\"PE Ratio < 7\"] = pe_ratio\n",
    "    else: \n",
    "        data[\"PE Ratio < 7\"] = \"NA\"\n",
    "    if pe_ratio < 7 and pe_ratio > 0: \n",
    "        points += 1\n",
    "        \n",
    "    # Price To Book Ratio  \n",
    "    price_to_book = priceToBook(stats)\n",
    "    if price_to_book != 0: \n",
    "        data[\"Price To Book < 1\"] = price_to_book\n",
    "    else: \n",
    "        data[\"Price To Book < 1\"] = \"NA\"\n",
    "    \n",
    "    if  price_to_book < 1 and  price_to_book > 0: \n",
    "        points += 1\n",
    "    \n",
    "    # PEG Ratio \n",
    "    peg_ratio = pegRatio(stats)\n",
    "    if peg_ratio != 0: \n",
    "        data[\"PEG Ratio < 1\"] = peg_ratio\n",
    "    else: \n",
    "        data[\"PEG Ratio < 1\"] = \"NA\"\n",
    "    if peg_ratio < 1.1 and peg_ratio > 0:\n",
    "        points += 1\n",
    "    \n",
    "    # Debt To Equity Ratio \n",
    "    # Warent buffet say < 0.5\n",
    "    debt_Equity = debtToEquity(stats)\n",
    "    if debt_Equity != 0: \n",
    "        data[\"Debt to Equity < 0.5\"] = debt_Equity\n",
    "    else: \n",
    "        data[\"Debt to Equity < 0.5\"] = \"NA\"\n",
    "    if debt_Equity < 0.5 and debt_Equity > 0:\n",
    "        points += 1\n",
    "        \n",
    "    # Current Ratio \n",
    "    current_ratio = currentRatio(balance_sheet)\n",
    "    if current_ratio != 0: \n",
    "        data[\"Current Ratio > 3\"] = current_ratio\n",
    "    else: \n",
    "        data[\"Current Ratio > 3\"] = \"NA\"\n",
    "        \n",
    "    if current_ratio > 3:\n",
    "        points += 1\n",
    "    \n",
    "    # Earning Progression Last 4 year \n",
    "    isProgressing = checkErningProgression(earnings, earning)\n",
    "    data[\"Earning Progression\"] =  isProgressing\n",
    "    if isProgressing:\n",
    "        points += 1\n",
    "    \n",
    "    # Net Current Asset Value Per Share\n",
    "    # Graham instituted a rule in which he would only consider buying a stock if its current price was trading at lower than 66% of its NCAVPS.\n",
    "    NCAVPS =NetCurrentAssetValuePerShare(balance_sheet, stats, price)\n",
    "    data[\"NCAVPS <50%\"] =  round(NCAVPS,3)\n",
    "    if NCAVPS < .50 and NCAVPS > 0:\n",
    "        points += 1\n",
    "    \n",
    "    data[\"Points(6)\"] = points\n",
    "\n",
    "    dataSet.append(data.copy())\n",
    "dataSet.sort(key=operator.itemgetter(\"Points(6)\"), reverse=True)\n",
    "df = pd.DataFrame(dataSet)  \n",
    "df.to_csv(\"Advance-reserch.csv\", sep='\\t', encoding='utf-8')\n",
    "pd.DataFrame(dataSet) "
   ]
  },
  {
   "cell_type": "code",
   "execution_count": null,
   "metadata": {},
   "outputs": [],
   "source": []
  },
  {
   "cell_type": "code",
   "execution_count": null,
   "metadata": {},
   "outputs": [],
   "source": []
  }
 ],
 "metadata": {
  "kernelspec": {
   "display_name": "Python 3",
   "language": "python",
   "name": "python3"
  },
  "language_info": {
   "codemirror_mode": {
    "name": "ipython",
    "version": 3
   },
   "file_extension": ".py",
   "mimetype": "text/x-python",
   "name": "python",
   "nbconvert_exporter": "python",
   "pygments_lexer": "ipython3",
   "version": "3.7.3"
  }
 },
 "nbformat": 4,
 "nbformat_minor": 4
}
