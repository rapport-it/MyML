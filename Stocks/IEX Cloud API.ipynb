{
 "cells": [
  {
   "cell_type": "code",
   "execution_count": 38,
   "metadata": {},
   "outputs": [],
   "source": [
    "import pandas as pd"
   ]
  },
  {
   "cell_type": "code",
   "execution_count": 39,
   "metadata": {},
   "outputs": [],
   "source": [
    "import requests\n",
    "import json"
   ]
  },
  {
   "cell_type": "code",
   "execution_count": 63,
   "metadata": {},
   "outputs": [],
   "source": [
    "def callApi(method, stock):\n",
    "    key = \"?token=\" + \"pk_ee5af08dfb9a419aaba2cbee77b80165\"\n",
    "    host = \"https://cloud.iexapis.com/stable/\"\n",
    "    ticker = \"stock/\"+ stock\n",
    "    api_method =\"/\" + method \n",
    "    url = host + ticker + api_method + key \n",
    "    try:\n",
    "        response = requests.request(\"GET\", url)\n",
    "        balance_sheet = json.loads(response.text)\n",
    "        return balance_sheet\n",
    "    except ValueError:\n",
    "        print(\"Unknown expeption on\" + stock)\n",
    "        return {}"
   ]
  },
  {
   "cell_type": "code",
   "execution_count": 68,
   "metadata": {},
   "outputs": [
    {
     "data": {
      "text/plain": [
       "{'week52change': -0.25,\n",
       " 'week52high': 58.83,\n",
       " 'week52low': 22.47,\n",
       " 'marketcap': 23235058080,\n",
       " 'employees': 60800,\n",
       " 'day200MovingAvg': 41.2,\n",
       " 'day50MovingAvg': 34.28,\n",
       " 'float': 587623408,\n",
       " 'avg10Volume': 12748051.1,\n",
       " 'avg30Volume': 12166286.17,\n",
       " 'ttmEPS': 0.4077,\n",
       " 'ttmDividendRate': 0.36,\n",
       " 'companyName': 'Southwest Airlines Co.',\n",
       " 'sharesOutstanding': 589872000,\n",
       " 'maxChangePercent': 1.2743,\n",
       " 'year5ChangePercent': -0.0674,\n",
       " 'year2ChangePercent': -0.3711,\n",
       " 'year1ChangePercent': -0.25,\n",
       " 'ytdChangePercent': -0.281729,\n",
       " 'month6ChangePercent': -0.129503,\n",
       " 'month3ChangePercent': 0.031692,\n",
       " 'month1ChangePercent': 0.203851,\n",
       " 'day30ChangePercent': 0.249286,\n",
       " 'day5ChangePercent': 0.048164,\n",
       " 'nextDividendDate': None,\n",
       " 'dividendYield': 0.009139375476009138,\n",
       " 'nextEarningsDate': None,\n",
       " 'exDividendDate': '2020-03-03',\n",
       " 'peRatio': 96.62,\n",
       " 'beta': 1.139553690939783,\n",
       " 'totalCash': 4072000000,\n",
       " 'currentDebt': 1172000000,\n",
       " 'revenue': 22428000000,\n",
       " 'grossProfit': 6031000000,\n",
       " 'totalRevenue': 22428000000,\n",
       " 'EBITDA': 4224000000,\n",
       " 'revenuePerShare': 38.02,\n",
       " 'revenuePerEmployee': 368881.58,\n",
       " 'debtToEquity': 0.41,\n",
       " 'profitMargin': 0.10255038344925986,\n",
       " 'enterpriseValue': 23159058080,\n",
       " 'enterpriseValueToRevenue': 1.03,\n",
       " 'priceToSales': 1.04,\n",
       " 'priceToBook': 2.3632076973148903,\n",
       " 'forwardPERatio': -6.31,\n",
       " 'pegRatio': -0.33,\n",
       " 'peHigh': -96.44262295081968,\n",
       " 'peLow': -36.8360655737705,\n",
       " 'week52highDate': '2020-02-14',\n",
       " 'week52lowDate': '2020-05-14',\n",
       " 'putCallRatio': 0.321259489592963}"
      ]
     },
     "execution_count": 68,
     "metadata": {},
     "output_type": "execute_result"
    }
   ],
   "source": [
    "callApi(\"advanced-stats\", \"LUV\")"
   ]
  },
  {
   "cell_type": "code",
   "execution_count": 57,
   "metadata": {},
   "outputs": [],
   "source": [
    "def peRatio(quote):\n",
    "    if not(\"peRatio\" in quote.keys()):\n",
    "        return 0\n",
    "    return quote[\"peRatio\"]"
   ]
  },
  {
   "cell_type": "code",
   "execution_count": 66,
   "metadata": {},
   "outputs": [],
   "source": [
    "def priceToBook(stats):\n",
    "    if not(\"priceToBook\" in stats.keys()):\n",
    "        return 0\n",
    "    return stats[\"priceToBook\"]"
   ]
  },
  {
   "cell_type": "code",
   "execution_count": 70,
   "metadata": {},
   "outputs": [
    {
     "data": {
      "text/html": [
       "<div>\n",
       "<style scoped>\n",
       "    .dataframe tbody tr th:only-of-type {\n",
       "        vertical-align: middle;\n",
       "    }\n",
       "\n",
       "    .dataframe tbody tr th {\n",
       "        vertical-align: top;\n",
       "    }\n",
       "\n",
       "    .dataframe thead th {\n",
       "        text-align: right;\n",
       "    }\n",
       "</style>\n",
       "<table border=\"1\" class=\"dataframe\">\n",
       "  <thead>\n",
       "    <tr style=\"text-align: right;\">\n",
       "      <th></th>\n",
       "      <th>Ticker</th>\n",
       "      <th>PE Ratio &lt; 15</th>\n",
       "      <th>Price To Book &lt; 1.5</th>\n",
       "      <th>Points</th>\n",
       "    </tr>\n",
       "  </thead>\n",
       "  <tbody>\n",
       "    <tr>\n",
       "      <th>0</th>\n",
       "      <td>LUV</td>\n",
       "      <td>96.62</td>\n",
       "      <td>2.363208</td>\n",
       "      <td>0</td>\n",
       "    </tr>\n",
       "    <tr>\n",
       "      <th>1</th>\n",
       "      <td>TELA</td>\n",
       "      <td>-5.48</td>\n",
       "      <td>6.140537</td>\n",
       "      <td>1</td>\n",
       "    </tr>\n",
       "    <tr>\n",
       "      <th>2</th>\n",
       "      <td>FB</td>\n",
       "      <td>34.29</td>\n",
       "      <td>6.726721</td>\n",
       "      <td>0</td>\n",
       "    </tr>\n",
       "    <tr>\n",
       "      <th>3</th>\n",
       "      <td>MAR</td>\n",
       "      <td>74.81</td>\n",
       "      <td>48.356612</td>\n",
       "      <td>0</td>\n",
       "    </tr>\n",
       "    <tr>\n",
       "      <th>4</th>\n",
       "      <td>JPM</td>\n",
       "      <td>13.92</td>\n",
       "      <td>1.207238</td>\n",
       "      <td>1</td>\n",
       "    </tr>\n",
       "    <tr>\n",
       "      <th>5</th>\n",
       "      <td>HTZ</td>\n",
       "      <td>-0.18</td>\n",
       "      <td>0.127155</td>\n",
       "      <td>1</td>\n",
       "    </tr>\n",
       "    <tr>\n",
       "      <th>6</th>\n",
       "      <td>DAL</td>\n",
       "      <td>-5.46</td>\n",
       "      <td>1.319489</td>\n",
       "      <td>1</td>\n",
       "    </tr>\n",
       "  </tbody>\n",
       "</table>\n",
       "</div>"
      ],
      "text/plain": [
       "  Ticker  PE Ratio < 15  Price To Book < 1.5  Points\n",
       "0    LUV          96.62             2.363208       0\n",
       "1   TELA          -5.48             6.140537       1\n",
       "2     FB          34.29             6.726721       0\n",
       "3    MAR          74.81            48.356612       0\n",
       "4    JPM          13.92             1.207238       1\n",
       "5    HTZ          -0.18             0.127155       1\n",
       "6    DAL          -5.46             1.319489       1"
      ]
     },
     "execution_count": 70,
     "metadata": {},
     "output_type": "execute_result"
    }
   ],
   "source": [
    "tickers = ['LUV','TELA', 'FB', 'MAR', 'JPM','HTZ', 'DAL' ]\n",
    "dataSet = [] \n",
    "for ticker in tickers:\n",
    "    data = {}\n",
    "    points = 0\n",
    "    data[\"Ticker\"] = ticker\n",
    "    \n",
    "    # Major data set \n",
    "    quote = callApi(\"quote\", ticker)\n",
    "    stats = callApi(\"advanced-stats\", ticker)\n",
    "    \n",
    "    # PE Ratio < 15\n",
    "    pe_ratio = peRatio(quote)\n",
    "    if pe_ratio != 0: \n",
    "        data[\"PE Ratio < 15\"] = pe_ratio\n",
    "    else: \n",
    "        data[\"PE Ratio < 15\"] = \"NA\"\n",
    "\n",
    "    # Price To Book Ratio  \n",
    "    price_to_book = priceToBook(stats)\n",
    "    if price_to_book != 0: \n",
    "        data[\"Price To Book < 1.5\"] = price_to_book\n",
    "    else: \n",
    "        data[\"Price To Book < 1.5\"] = \"NA\"\n",
    "    \n",
    "    if pe_ratio * price_to_book < 22.5: \n",
    "        points += 1\n",
    "    \n",
    "    data[\"Points\"] = points\n",
    "    dataSet.append(data.copy())\n",
    "pd.DataFrame(dataSet)    "
   ]
  },
  {
   "cell_type": "code",
   "execution_count": null,
   "metadata": {},
   "outputs": [],
   "source": []
  }
 ],
 "metadata": {
  "kernelspec": {
   "display_name": "Python 3",
   "language": "python",
   "name": "python3"
  },
  "language_info": {
   "codemirror_mode": {
    "name": "ipython",
    "version": 3
   },
   "file_extension": ".py",
   "mimetype": "text/x-python",
   "name": "python",
   "nbconvert_exporter": "python",
   "pygments_lexer": "ipython3",
   "version": "3.7.3"
  }
 },
 "nbformat": 4,
 "nbformat_minor": 4
}
