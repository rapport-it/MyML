{
 "cells": [
  {
   "cell_type": "code",
   "execution_count": 2,
   "metadata": {},
   "outputs": [],
   "source": [
    "import pandas as pd\n",
    "import numpy as np\n",
    "import statistics"
   ]
  },
  {
   "cell_type": "code",
   "execution_count": 3,
   "metadata": {},
   "outputs": [],
   "source": [
    "import requests\n",
    "import json"
   ]
  },
  {
   "cell_type": "code",
   "execution_count": 4,
   "metadata": {},
   "outputs": [],
   "source": [
    "def callApi(method, stock,isEarnings = False ):\n",
    "    key = \"token=\" + \"pk_ee5af08dfb9a419aaba2cbee77b80165\"\n",
    "    host = \"https://cloud.iexapis.com/stable/\"\n",
    "    ticker = \"stock/\"+ stock\n",
    "    api_method =\"/\" + method \n",
    "    query = \"?\"\n",
    "    add = \"&\"\n",
    "    last = \"/10\"\n",
    "    period = \"period=annual\"\n",
    "    if isEarnings:\n",
    "        url = host + ticker + api_method + last + query + period + add + key \n",
    "    else:\n",
    "        url = host + ticker + api_method + query + key \n",
    "    try:\n",
    "        response = requests.request(\"GET\", url)\n",
    "        balance_sheet = json.loads(response.text)\n",
    "        return balance_sheet\n",
    "    except ValueError:\n",
    "        print(\"Unknown expeption on\" + stock)\n",
    "        return {}"
   ]
  },
  {
   "cell_type": "code",
   "execution_count": 5,
   "metadata": {},
   "outputs": [],
   "source": [
    "def peRatio(quote):\n",
    "    if \"peRatio\" in quote.keys() and quote[\"peRatio\"] is not None:\n",
    "        return float(quote[\"peRatio\"])\n",
    "    else:\n",
    "        0.0"
   ]
  },
  {
   "cell_type": "code",
   "execution_count": 6,
   "metadata": {},
   "outputs": [],
   "source": [
    "def priceToBook(stats):\n",
    "    if \"priceToBook\" in stats.keys() and stats[\"priceToBook\"] is not None:\n",
    "        return float(stats[\"priceToBook\"])\n",
    "    else:\n",
    "        return 0.0"
   ]
  },
  {
   "cell_type": "code",
   "execution_count": 7,
   "metadata": {},
   "outputs": [],
   "source": [
    "def debtToEquity(stats):\n",
    "    if \"debtToEquity\" in stats.keys() and stats[\"debtToEquity\"] is not None:\n",
    "        return float(stats[\"debtToEquity\"])\n",
    "    else:\n",
    "        return 0.0\n",
    "    "
   ]
  },
  {
   "cell_type": "code",
   "execution_count": 8,
   "metadata": {},
   "outputs": [],
   "source": [
    "def pegRatio(stats):\n",
    "    if not(\"pegRatio\" in stats.keys()):\n",
    "        return 0.0\n",
    "    if stats[\"pegRatio\"] is not None:\n",
    "        return float(stats[\"pegRatio\"])\n",
    "    else:\n",
    "        return 0.0"
   ]
  },
  {
   "cell_type": "code",
   "execution_count": 9,
   "metadata": {},
   "outputs": [],
   "source": [
    "def sharesoutstanding(stats):\n",
    "    if not(\"sharesOutstanding\" in stats.keys()):\n",
    "        return 0.0\n",
    "    if stats[\"sharesOutstanding\"] is not None:\n",
    "        return float(stats[\"sharesOutstanding\"])\n",
    "    else:\n",
    "        return 0.0"
   ]
  },
  {
   "cell_type": "code",
   "execution_count": 10,
   "metadata": {},
   "outputs": [],
   "source": [
    "# Current Ratio= Current Assets / Current Liabilities\n",
    "def currentRatio(balance_sheet):\n",
    "    if not(\"balancesheet\" in balance_sheet.keys()) or len(balance_sheet[\"balancesheet\"]) == 0:\n",
    "        return 0.0\n",
    "    latest_balance_sheet = balance_sheet[\"balancesheet\"][0]\n",
    "    if not(\"totalAssets\" in latest_balance_sheet.keys()) and not(\"totalLiabilities\" in latest_balance_sheet.keys()):\n",
    "        return 0.0\n",
    "    return float(latest_balance_sheet[\"totalAssets\"]/ latest_balance_sheet[\"totalLiabilities\"])\n",
    "    "
   ]
  },
  {
   "cell_type": "code",
   "execution_count": 11,
   "metadata": {},
   "outputs": [],
   "source": [
    "def checkErningProgression(earnings):\n",
    "    if not(\"earnings\" in earnings.keys()) or len(earnings[\"earnings\"]) == 0:\n",
    "        return False\n",
    "    earningsSet = earnings[\"earnings\"][:-1]\n",
    "    yearAgoChangePercent = np.array([])\n",
    "    for earning in earningsSet:\n",
    "        if not(\"yearAgoChangePercent\" in earning.keys()):\n",
    "            return False\n",
    "        yearAgoChangePercent = np.append(yearAgoChangePercent, earning[\"yearAgoChangePercent\"])\n",
    "    isDecending = (yearAgoChangePercent == np.sort(yearAgoChangePercent)[::-1]).all()\n",
    "    return isDecending"
   ]
  },
  {
   "cell_type": "code",
   "execution_count": 12,
   "metadata": {},
   "outputs": [
    {
     "data": {
      "text/html": [
       "<div>\n",
       "<style scoped>\n",
       "    .dataframe tbody tr th:only-of-type {\n",
       "        vertical-align: middle;\n",
       "    }\n",
       "\n",
       "    .dataframe tbody tr th {\n",
       "        vertical-align: top;\n",
       "    }\n",
       "\n",
       "    .dataframe thead th {\n",
       "        text-align: right;\n",
       "    }\n",
       "</style>\n",
       "<table border=\"1\" class=\"dataframe\">\n",
       "  <thead>\n",
       "    <tr style=\"text-align: right;\">\n",
       "      <th></th>\n",
       "      <th>Ticker</th>\n",
       "      <th>Price</th>\n",
       "      <th>PE Ratio &lt; 15</th>\n",
       "      <th>Price To Book &lt; 1.5</th>\n",
       "      <th>PEG Ratio(1 and 0)</th>\n",
       "      <th>Debt to Equity (0 and 1.5)</th>\n",
       "      <th>Current Ratio &gt; 1.5</th>\n",
       "      <th>Earning Progression</th>\n",
       "      <th>Points(5)</th>\n",
       "    </tr>\n",
       "  </thead>\n",
       "  <tbody>\n",
       "    <tr>\n",
       "      <th>0</th>\n",
       "      <td>HTZ</td>\n",
       "      <td>1.36</td>\n",
       "      <td>-0.17</td>\n",
       "      <td>0.120091</td>\n",
       "      <td>NA</td>\n",
       "      <td>10.7</td>\n",
       "      <td>1.029987</td>\n",
       "      <td>True</td>\n",
       "      <td>1</td>\n",
       "    </tr>\n",
       "  </tbody>\n",
       "</table>\n",
       "</div>"
      ],
      "text/plain": [
       "  Ticker  Price  PE Ratio < 15  Price To Book < 1.5 PEG Ratio(1 and 0)  \\\n",
       "0    HTZ   1.36          -0.17             0.120091                 NA   \n",
       "\n",
       "   Debt to Equity (0 and 1.5)  Current Ratio > 1.5  Earning Progression  \\\n",
       "0                        10.7             1.029987                 True   \n",
       "\n",
       "   Points(5)  \n",
       "0          1  "
      ]
     },
     "execution_count": 12,
     "metadata": {},
     "output_type": "execute_result"
    }
   ],
   "source": [
    "tickers = ['HTZ']\n",
    "dataSet = [] \n",
    "for ticker in tickers:\n",
    "    data = {}\n",
    "    points = 0\n",
    "    data[\"Ticker\"] = ticker\n",
    "    # Major data set \n",
    "    stats = callApi(\"advanced-stats\", ticker)\n",
    "    earnings = callApi(\"earnings\", ticker, True)\n",
    "    earning = callApi(\"earnings\", ticker)\n",
    "    #earnings[\"earnings\"].insert(0,earning[\"earnings\"][0])\n",
    "    price = callApi(\"price\", ticker)\n",
    "    \n",
    "    data[\"Price\"] = price\n",
    "    # PE Ratio < 15\n",
    "    pe_ratio = peRatio(quote)\n",
    "    if pe_ratio != 0: \n",
    "        data[\"PE Ratio < 15\"] = pe_ratio\n",
    "    else: \n",
    "        data[\"PE Ratio < 15\"] = \"NA\"\n",
    "\n",
    "    # Price To Book Ratio  \n",
    "    price_to_book = priceToBook(stats)\n",
    "    if price_to_book != 0: \n",
    "        data[\"Price To Book < 1.5\"] = price_to_book\n",
    "    else: \n",
    "        data[\"Price To Book < 1.5\"] = \"NA\"\n",
    "    \n",
    "    if pe_ratio * price_to_book < 22.5 and pe_ratio * price_to_book > 0: \n",
    "        points += 1\n",
    "    \n",
    "    # PEG Ratio \n",
    "    peg_ratio = pegRatio(stats)\n",
    "    if peg_ratio != 0: \n",
    "        data[\"PEG Ratio(1 and 0)\"] = peg_ratio\n",
    "    else: \n",
    "        data[\"PEG Ratio(1 and 0)\"] = \"NA\"\n",
    "    if peg_ratio < 1.1 and peg_ratio > 0:\n",
    "        points += 1\n",
    "    \n",
    "    # Debt To Equity Ratio \n",
    "    # Warent buffet say < 0.5\n",
    "    debt_Equity = debtToEquity(stats)\n",
    "    if debt_Equity != 0: \n",
    "        data[\"Debt to Equity (0 and 1.5)\"] = debt_Equity\n",
    "    else: \n",
    "        data[\"Debt to Equity (0 and 1.5)\"] = \"NA\"\n",
    "    if debt_Equity < 1.6 and debt_Equity > 0:\n",
    "        points += 1\n",
    "        \n",
    "    # Current Ratio \n",
    "    current_ratio = currentRatio(balance_sheet)\n",
    "    if current_ratio != 0: \n",
    "        data[\"Current Ratio > 1.5\"] = current_ratio\n",
    "    else: \n",
    "        data[\"Current Ratio > 1.5\"] = \"NA\"\n",
    "        \n",
    "    if current_ratio > 1.4:\n",
    "        points += 1\n",
    "    \n",
    "    # Earning Progression Last 4 year \n",
    "    isProgressing = checkErningProgression(earnings)\n",
    "    data[\"Earning Progression\"] =  isProgressing\n",
    "    if isProgressing:\n",
    "        points += 1\n",
    "    \n",
    "    data[\"Points(5)\"] = points\n",
    "\n",
    "    dataSet.append(data.copy())\n",
    "pd.DataFrame(dataSet)    "
   ]
  },
  {
   "cell_type": "code",
   "execution_count": null,
   "metadata": {},
   "outputs": [],
   "source": []
  }
 ],
 "metadata": {
  "kernelspec": {
   "display_name": "Python 3",
   "language": "python",
   "name": "python3"
  },
  "language_info": {
   "codemirror_mode": {
    "name": "ipython",
    "version": 3
   },
   "file_extension": ".py",
   "mimetype": "text/x-python",
   "name": "python",
   "nbconvert_exporter": "python",
   "pygments_lexer": "ipython3",
   "version": "3.7.3"
  }
 },
 "nbformat": 4,
 "nbformat_minor": 4
}
