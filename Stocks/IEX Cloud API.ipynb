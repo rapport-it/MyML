{
 "cells": [
  {
   "cell_type": "code",
   "execution_count": 1,
   "metadata": {},
   "outputs": [],
   "source": [
    "import pandas as pd\n",
    "import numpy as np\n",
    "import statistics\n",
    "import requests\n",
    "import json\n",
    "import operator"
   ]
  },
  {
   "cell_type": "markdown",
   "metadata": {},
   "source": [
    "## Common Methods"
   ]
  },
  {
   "cell_type": "code",
   "execution_count": 2,
   "metadata": {},
   "outputs": [],
   "source": [
    "def callApi(method, stock, isAnnual = False ):\n",
    "    key = \"token=\" + \"pk_ee5af08dfb9a419aaba2cbee77b80165\"\n",
    "    host = \"https://cloud.iexapis.com/stable/\"\n",
    "    ticker = \"stock/\"+ stock\n",
    "    api_method =\"/\" + method \n",
    "    query = \"?\"\n",
    "    add = \"&\"\n",
    "    annualLast = \"/10\"\n",
    "    annualPeriod = \"period=annual\"\n",
    "    quarterLast = \"/4\"\n",
    "    quarterPeriod = \"period=quarter\"\n",
    "    if isAnnual:\n",
    "        url = host + ticker + api_method + annualLast + query + annualPeriod + add + key \n",
    "    else:\n",
    "        url = host + ticker + api_method + quarterLast + query + quarterPeriod + add + key \n",
    "    try:\n",
    "        response = requests.request(\"GET\", url)\n",
    "        balance_sheet = json.loads(response.text)\n",
    "        return balance_sheet\n",
    "    except ValueError:\n",
    "        print(\"Unknown expeption on\" + stock)\n",
    "        return {}"
   ]
  },
  {
   "cell_type": "code",
   "execution_count": 3,
   "metadata": {},
   "outputs": [],
   "source": [
    "def addTTMToYearLists(method,lists,ttmList):\n",
    "    reportDate = \"reportDate\"\n",
    "    if method == \"earnings\":\n",
    "        reportDate = \"EPSReportDate\"\n",
    "    if not (method in ttmList.keys()):\n",
    "        return lists\n",
    "    first = lists[method][0]\n",
    "    ttm = ttmList[method][0]\n",
    "    if first[reportDate] != ttm[reportDate]: \n",
    "        lists[method].insert(0, ttmList[method][0])\n",
    "    return lists"
   ]
  },
  {
   "cell_type": "markdown",
   "metadata": {},
   "source": [
    "## Ratio Methods"
   ]
  },
  {
   "cell_type": "code",
   "execution_count": 4,
   "metadata": {},
   "outputs": [],
   "source": [
    "def peRatio(quote):\n",
    "    if \"peRatio\" in quote.keys() and quote[\"peRatio\"] is not None:\n",
    "        return float(quote[\"peRatio\"])\n",
    "    return 0.0"
   ]
  },
  {
   "cell_type": "code",
   "execution_count": 5,
   "metadata": {},
   "outputs": [],
   "source": [
    "def priceToBook(stats):\n",
    "    if \"priceToBook\" in stats.keys() and stats[\"priceToBook\"] is not None:\n",
    "        return float(stats[\"priceToBook\"])\n",
    "    return 0.0"
   ]
  },
  {
   "cell_type": "code",
   "execution_count": 6,
   "metadata": {},
   "outputs": [],
   "source": [
    "def debtToEquity(stats):\n",
    "    if \"debtToEquity\" in stats.keys() and stats[\"debtToEquity\"] is not None:\n",
    "        return float(stats[\"debtToEquity\"])\n",
    "    return 0.0 "
   ]
  },
  {
   "cell_type": "code",
   "execution_count": 44,
   "metadata": {},
   "outputs": [],
   "source": [
    "def pegRatio(stats):\n",
    "    if\"pegRatio\" in stats.keys() and stats[\"pegRatio\"] is not None:\n",
    "        return float(stats[\"pegRatio\"])\n",
    "    return 0.0"
   ]
  },
  {
   "cell_type": "code",
   "execution_count": 9,
   "metadata": {},
   "outputs": [],
   "source": [
    "def marketCap(quote):\n",
    "    if \"marketCap\" in quote.keys() and quote[\"marketCap\"] is not None:\n",
    "        return quote[\"marketCap\"]\n",
    "    return 0 "
   ]
  },
  {
   "cell_type": "code",
   "execution_count": 10,
   "metadata": {},
   "outputs": [],
   "source": [
    "# Current Ratio= Current Assets / Current Liabilities\n",
    "def currentRatio(balance_sheet):\n",
    "    if \"balancesheet\" in balance_sheet.keys() and len(balance_sheet[\"balancesheet\"]) > 0:\n",
    "        bs = balance_sheet[\"balancesheet\"][0]\n",
    "        currentAssets = bs['currentAssets']\n",
    "        totalCurrentLiabilities = bs['totalCurrentLiabilities']\n",
    "        return currentAssets / totalCurrentLiabilities\n",
    "    return 0                                                                                                   "
   ]
  },
  {
   "cell_type": "code",
   "execution_count": 35,
   "metadata": {},
   "outputs": [],
   "source": [
    "def checkErningProgression(earnings, earning):\n",
    "    earnings = addTTMToYearLists(\"earnings\", earnings, earning)\n",
    "    if not(\"earnings\" in earnings.keys()) or len(earnings[\"earnings\"]) == 0:\n",
    "        return False\n",
    "    earningsSet = earnings[\"earnings\"][:-1]\n",
    "    yearAgoChangePercent = np.array([])\n",
    "    for earning in earningsSet:\n",
    "        if not(\"yearAgoChangePercent\" in earning.keys()):\n",
    "            return False\n",
    "        if earning[\"yearAgoChangePercent\"] is not None:\n",
    "            yearAgoChangePercent = np.append(yearAgoChangePercent, int(earning[\"yearAgoChangePercent\"]))\n",
    "    if len(yearAgoChangePercent) == 0 :\n",
    "        return False\n",
    "    isDecending = (yearAgoChangePercent == np.sort(yearAgoChangePercent)[::-1]).all()\n",
    "    return isDecending"
   ]
  },
  {
   "cell_type": "code",
   "execution_count": 49,
   "metadata": {},
   "outputs": [],
   "source": [
    "def sharesOutstanding(stats):\n",
    "    if \"sharesOutstanding\" in stats.keys() and stats[\"sharesOutstanding\"] is not None:\n",
    "        return float(stats[\"sharesOutstanding\"])\n",
    "    return 0.0"
   ]
  },
  {
   "cell_type": "code",
   "execution_count": 13,
   "metadata": {},
   "outputs": [],
   "source": [
    "def NetCurrentAssetValuePerShare(balanceSheet, stats, price):\n",
    "    #Net Current Asset Value = Current Assets – (Current Liabilities + Long-Term Liabilities) \n",
    "    shares_Outstanding = sharesOutstanding(stats)\n",
    "    if \"balancesheet\" in balance_sheet.keys() and len(balance_sheet[\"balancesheet\"]) > 0 and shares_Outstanding !=0:\n",
    "        latest_balance_sheet = balance_sheet[\"balancesheet\"][0]\n",
    "        if \"currentAssets\" in latest_balance_sheet.keys() and \"totalLiabilities\" in latest_balance_sheet.keys() and \"minorityInterest\" in latest_balance_sheet.keys():\n",
    "            netCurrentAssetValue = (latest_balance_sheet[\"currentAssets\"] - latest_balance_sheet[\"totalLiabilities\"] - latest_balance_sheet[\"minorityInterest\"]) / shares_Outstanding\n",
    "            return price/netCurrentAssetValue\n",
    "    return 0"
   ]
  },
  {
   "cell_type": "code",
   "execution_count": 14,
   "metadata": {},
   "outputs": [],
   "source": [
    "# Last Six moths data \n",
    "def insideTrade(insiderSummary):\n",
    "    return sum(item['netTransacted'] for item in insiderSummary)"
   ]
  },
  {
   "cell_type": "code",
   "execution_count": 75,
   "metadata": {},
   "outputs": [],
   "source": [
    "def ZScore(balance_sheet, incomes, quote):\n",
    "\n",
    "    X1 = X2 = X3 = X4 = X5 = 0\n",
    "    \n",
    "    if \"balancesheet\" in balance_sheet.keys() and len(balance_sheet[\"balancesheet\"]) > 0 and \"income\" in income.keys() and len(income[\"income\"]) > 0:\n",
    "        latest_balance_sheet = balance_sheet[\"balancesheet\"][0]\n",
    "        latest_income = income[\"income\"][0]\n",
    "        \n",
    "        #X1 = Working Capital / Total Assets\n",
    "        # =(Total Current Assets - Total Current Liabilities) / Total Assets\n",
    "        if \"currentAssets\" in latest_balance_sheet.keys() and \"totalCurrentLiabilities\" in latest_balance_sheet.keys() and \"totalAssets\" in latest_balance_sheet.keys():\n",
    "            totalCurrentAssets = latest_balance_sheet[\"currentAssets\"]\n",
    "            totalLiabilities = latest_balance_sheet[\"totalCurrentLiabilities\"]\n",
    "            totalAssets = latest_balance_sheet[\"totalAssets\"]\n",
    "            if totalCurrentAssets is not None and totalLiabilities is not None and totalAssets is not None: \n",
    "                X1 = (totalCurrentAssets - totalLiabilities) /  totalAssets\n",
    "        \n",
    "        #X2 = Retained Earnings /Total Assets    \n",
    "        if \"retainedEarnings\" in latest_balance_sheet.keys() and \"totalAssets\" in latest_balance_sheet.keys():\n",
    "            retainedEarnings = latest_balance_sheet[\"retainedEarnings\"]\n",
    "            totalAssets = latest_balance_sheet[\"totalAssets\"]\n",
    "            if retainedEarnings is not None and totalAssets is not None:\n",
    "                X2 = retainedEarnings /  totalAssets\n",
    "        \n",
    "        #X3 = Earnings Before Interest and Taxes / Total Assets\n",
    "        #    = (Pre-Tax Income - Interest Expense) / Total Assets\n",
    "        # Not able to get Interest Expense\n",
    "        if \"pretaxIncome\" in latest_income.keys() and \"totalAssets\" in latest_balance_sheet.keys():\n",
    "            pretaxIncome = sum(income['pretaxIncome'] for income in incomes[\"income\"])\n",
    "            totalAssets = latest_balance_sheet[\"totalAssets\"]\n",
    "            if pretaxIncome is not None and totalAssets is not None:\n",
    "                X3 = pretaxIncome / totalAssets\n",
    "        \n",
    "        \n",
    "        #X4 = Market Value Equity / Book Value of Total Liabilities\n",
    "        if \"totalLiabilities\" in latest_balance_sheet.keys():\n",
    "            market_value_equity = marketCap(quote)\n",
    "            totalLiabilities = latest_balance_sheet['totalLiabilities']\n",
    "            if market_value_equity is not None and totalLiabilities is not None:\n",
    "                X4 = pretaxIncome/ totalAssets\n",
    "            \n",
    "        #X5 = Revenue / Total Assets\n",
    "        if \"income\" in income.keys() and \"totalAssets\" in latest_balance_sheet.keys():\n",
    "            totalRevenue = sum(income['totalRevenue'] for income in incomes[\"income\"])\n",
    "            totalAssets = latest_balance_sheet[\"totalAssets\"]\n",
    "            if totalRevenue is not None and totalAssets is not None:\n",
    "                X5 = totalRevenue / totalAssets\n",
    "    print(X1)\n",
    "    print(X2)\n",
    "    print(X3)\n",
    "    print(X4)\n",
    "    print(X5)\n",
    "\n",
    "    zScore = 1.2 * X1 + 1.4 * X2 + 3.3 * X3 + 0.6 * X4 + 1.0 * X5\n",
    "        \n",
    "        #ZScore= 1.2* X1 + 1.4 * X2 + 3.3 * X3 + 0.6 * X4 + 1.0 * X5\n",
    "    return zScore"
   ]
  },
  {
   "cell_type": "code",
   "execution_count": 16,
   "metadata": {},
   "outputs": [],
   "source": [
    "def FScore(income, cashflows):\n",
    "    score = 0\n",
    "    if \"income\" in income.keys():\n",
    "        netIncome = sum(net['netIncome'] for net in income[\"income\"])\n",
    "        if netIncome > 0:\n",
    "            score += 1 \n",
    "    if \"cashflow\" in cashflows.keys():\n",
    "        cashflow = sum(flow['cashFlow'] for flow in cashflows[\"cashflow\"]) \n",
    "        if cashflow > 0:\n",
    "            score += 1 \n",
    "    \n",
    "    return 0 "
   ]
  },
  {
   "cell_type": "code",
   "execution_count": 76,
   "metadata": {},
   "outputs": [
    {
     "name": "stdout",
     "output_type": "stream",
     "text": [
      "0.14100471412725624\n",
      "0.07605626701623475\n",
      "0.21527742764949076\n",
      "0.21527742764949076\n",
      "0.861588686094585\n"
     ]
    },
    {
     "data": {
      "text/html": [
       "<div>\n",
       "<style scoped>\n",
       "    .dataframe tbody tr th:only-of-type {\n",
       "        vertical-align: middle;\n",
       "    }\n",
       "\n",
       "    .dataframe tbody tr th {\n",
       "        vertical-align: top;\n",
       "    }\n",
       "\n",
       "    .dataframe thead th {\n",
       "        text-align: right;\n",
       "    }\n",
       "</style>\n",
       "<table border=\"1\" class=\"dataframe\">\n",
       "  <thead>\n",
       "    <tr style=\"text-align: right;\">\n",
       "      <th></th>\n",
       "    </tr>\n",
       "  </thead>\n",
       "  <tbody>\n",
       "  </tbody>\n",
       "</table>\n",
       "</div>"
      ],
      "text/plain": [
       "Empty DataFrame\n",
       "Columns: []\n",
       "Index: []"
      ]
     },
     "execution_count": 76,
     "metadata": {},
     "output_type": "execute_result"
    }
   ],
   "source": [
    "\n",
    "tickers = ['AAPL']\n",
    "dataSet = [] \n",
    "for ticker in tickers:\n",
    "    data = {}\n",
    "    points = 0\n",
    "    \n",
    "    quote = callApi(\"quote\", ticker)\n",
    "    \n",
    "    # Less than 10 million don't comsider\n",
    "    market_cap =  marketCap(quote)\n",
    "    if market_cap < 10000000:\n",
    "        continue\n",
    "        \n",
    "    # Z-Score \n",
    "    balance_sheet = callApi(\"balance-sheet\", ticker)\n",
    "    income = callApi(\"income\", ticker)\n",
    "    zScore = ZScore(balance_sheet, income, quote)\n",
    "    if zScore is not None :\n",
    "        if zScore > 7.99:\n",
    "            points += 2\n",
    "        elif zScore > 2.99:\n",
    "            ponts += 1\n",
    "        else: \n",
    "            continue\n",
    "    \n",
    "    # Major data set\n",
    "    company = callApi(\"company\", ticker)\n",
    "    stats = callApi(\"advanced-stats\", ticker)\n",
    "    earnings = callApi(\"earnings\", ticker, True)\n",
    "    earning = callApi(\"earnings\", ticker)\n",
    "    price = callApi(\"price\", ticker)\n",
    "    inside_trade = callApi(\"insider-summary\", ticker)\n",
    "    \n",
    "    \n",
    "    data[\"Ticker\"] = ticker\n",
    "    data [\"company Name\"] = quote[\"companyName\"]\n",
    "    data[\"Sector\"] = company[\"sector\"]\n",
    "    data[\"Price\"] = price\n",
    "    data[\"Market Cap\"] = market_cap\n",
    "    data[\"52 High\"] = quote[\"week52High\"]\n",
    "    data[\"52 Low\"] = quote[\"week52Low\"]\n",
    "    data[\"Z Score\"] =  zScore\n",
    "    \n",
    "    # PE Ratio < 7\n",
    "    pe_ratio = peRatio(quote)\n",
    "    if pe_ratio != 0: \n",
    "        data[\"PE Ratio < 7\"] = pe_ratio\n",
    "    else: \n",
    "        data[\"PE Ratio < 7\"] = \"NA\"\n",
    "    if pe_ratio < 7 and pe_ratio > 0: \n",
    "        points += 1\n",
    "        \n",
    "    # Price To Book Ratio  \n",
    "    price_to_book = priceToBook(stats)\n",
    "    if price_to_book != 0: \n",
    "        data[\"Price To Book < 1\"] = price_to_book\n",
    "    else: \n",
    "        data[\"Price To Book < 1\"] = \"NA\"\n",
    "    \n",
    "    if  price_to_book < 1 and  price_to_book > 0: \n",
    "        points += 1\n",
    "    \n",
    "    # PEG Ratio \n",
    "    peg_ratio = pegRatio(stats)\n",
    "    if peg_ratio != 0: \n",
    "        data[\"PEG Ratio < 1\"] = peg_ratio\n",
    "    else: \n",
    "        data[\"PEG Ratio < 1\"] = \"NA\"\n",
    "    if peg_ratio < 1.1 and peg_ratio > 0:\n",
    "        points += 1\n",
    "    \n",
    "    # Debt To Equity Ratio \n",
    "    # Warent buffet say < 0.5\n",
    "    debt_Equity = debtToEquity(stats)\n",
    "    if debt_Equity != 0: \n",
    "        data[\"Debt to Equity < 0.5\"] = debt_Equity\n",
    "    else: \n",
    "        data[\"Debt to Equity < 0.5\"] = \"NA\"\n",
    "    if debt_Equity < 0.5 and debt_Equity > 0:\n",
    "        points += 1\n",
    "        \n",
    "    # Current Ratio \n",
    "    current_ratio = currentRatio(balance_sheet)\n",
    "    if current_ratio != 0: \n",
    "        data[\"Current Ratio > 3\"] = current_ratio\n",
    "    else: \n",
    "        data[\"Current Ratio > 3\"] = \"NA\"\n",
    "        \n",
    "    if current_ratio > 3:\n",
    "        points += 1\n",
    "    \n",
    "    # Earning Progression Last 4 year \n",
    "    isProgressing = checkErningProgression(earnings, earning)\n",
    "    data[\"Earning Progression\"] =  isProgressing\n",
    "    if isProgressing:\n",
    "        points += 1\n",
    "    \n",
    "    # Net Current Asset Value Per Share\n",
    "    # Graham instituted a rule in which he would only consider buying a stock if its current price was trading at lower than 66% of its NCAVPS.\n",
    "    NCAVPS = NetCurrentAssetValuePerShare(balance_sheet, stats, price)\n",
    "    data[\"NCAVPS <50%\"] =  round(NCAVPS,3)\n",
    "    if NCAVPS < .50 and NCAVPS > 0:\n",
    "        points += 1\n",
    "        \n",
    "    # Inside Traide\n",
    "    trade = insideTrade(inside_trade)\n",
    "    data[\"Inside Trade\"] =  trade\n",
    "    if trade > 10000:\n",
    "        points += 1\n",
    "    \n",
    "        \n",
    "    data[\"Points(10)\"] = points\n",
    "\n",
    "    dataSet.append(data.copy())\n",
    "dataSet.sort(key=operator.itemgetter(\"Points(10)\"), reverse=True)\n",
    "df = pd.DataFrame(dataSet)  \n",
    "df.to_csv(\"Advance-reserch.csv\", sep='\\t', encoding='utf-8')\n",
    "pd.DataFrame(dataSet) "
   ]
  },
  {
   "cell_type": "code",
   "execution_count": null,
   "metadata": {},
   "outputs": [],
   "source": []
  },
  {
   "cell_type": "code",
   "execution_count": null,
   "metadata": {},
   "outputs": [],
   "source": []
  }
 ],
 "metadata": {
  "kernelspec": {
   "display_name": "Python 3",
   "language": "python",
   "name": "python3"
  },
  "language_info": {
   "codemirror_mode": {
    "name": "ipython",
    "version": 3
   },
   "file_extension": ".py",
   "mimetype": "text/x-python",
   "name": "python",
   "nbconvert_exporter": "python",
   "pygments_lexer": "ipython3",
   "version": "3.7.3"
  }
 },
 "nbformat": 4,
 "nbformat_minor": 4
}
