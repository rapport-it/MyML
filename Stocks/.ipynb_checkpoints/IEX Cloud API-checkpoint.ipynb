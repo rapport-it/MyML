{
 "cells": [
  {
   "cell_type": "code",
   "execution_count": 2,
   "metadata": {},
   "outputs": [],
   "source": [
    "import pandas as pd\n",
    "import numpy as np\n",
    "import statistics\n",
    "import requests\n",
    "import json"
   ]
  },
  {
   "cell_type": "markdown",
   "metadata": {},
   "source": [
    "## Common Methods"
   ]
  },
  {
   "cell_type": "code",
   "execution_count": 3,
   "metadata": {},
   "outputs": [],
   "source": [
    "def callApi(method, stock,isEarnings = False ):\n",
    "    key = \"token=\" + \"pk_ee5af08dfb9a419aaba2cbee77b80165\"\n",
    "    host = \"https://cloud.iexapis.com/stable/\"\n",
    "    ticker = \"stock/\"+ stock\n",
    "    api_method =\"/\" + method \n",
    "    query = \"?\"\n",
    "    add = \"&\"\n",
    "    last = \"/10\"\n",
    "    period = \"period=annual\"\n",
    "    if isEarnings:\n",
    "        url = host + ticker + api_method + last + query + period + add + key \n",
    "    else:\n",
    "        url = host + ticker + api_method + query + key \n",
    "    try:\n",
    "        response = requests.request(\"GET\", url)\n",
    "        balance_sheet = json.loads(response.text)\n",
    "        return balance_sheet\n",
    "    except ValueError:\n",
    "        print(\"Unknown expeption on\" + stock)\n",
    "        return {}"
   ]
  },
  {
   "cell_type": "code",
   "execution_count": 4,
   "metadata": {},
   "outputs": [],
   "source": [
    "def addTTMToYearLists(method,lists,ttmList):\n",
    "    reportDate = \"reportDate\"\n",
    "    if method == \"earnings\":\n",
    "        reportDate = \"EPSReportDate\"\n",
    "    if not (method in ttmList.keys()):\n",
    "        return lists\n",
    "    first = lists[method][0]\n",
    "    ttm = ttmList[method][0]\n",
    "    if first[reportDate] != ttm[reportDate]: \n",
    "        lists[method].insert(0, ttmList[method][0])\n",
    "    return lists"
   ]
  },
  {
   "cell_type": "markdown",
   "metadata": {},
   "source": [
    "## Ratio Methods"
   ]
  },
  {
   "cell_type": "code",
   "execution_count": 5,
   "metadata": {},
   "outputs": [],
   "source": [
    "def peRatio(quote):\n",
    "    if \"peRatio\" in quote.keys() and quote[\"peRatio\"] is not None:\n",
    "        return float(quote[\"peRatio\"])\n",
    "    return 0.0"
   ]
  },
  {
   "cell_type": "code",
   "execution_count": 6,
   "metadata": {},
   "outputs": [],
   "source": [
    "def priceToBook(stats):\n",
    "    if \"priceToBook\" in stats.keys() and stats[\"priceToBook\"] is not None:\n",
    "        return float(stats[\"priceToBook\"])\n",
    "    return 0.0"
   ]
  },
  {
   "cell_type": "code",
   "execution_count": 7,
   "metadata": {},
   "outputs": [],
   "source": [
    "def debtToEquity(stats):\n",
    "    if \"debtToEquity\" in stats.keys() and stats[\"debtToEquity\"] is not None:\n",
    "        return float(stats[\"debtToEquity\"])\n",
    "    return 0.0 "
   ]
  },
  {
   "cell_type": "code",
   "execution_count": 8,
   "metadata": {},
   "outputs": [],
   "source": [
    "def pegRatio(stats):\n",
    "    if stats[\"pegRatio\"] is not None:\n",
    "        return float(stats[\"pegRatio\"])\n",
    "    return 0.0"
   ]
  },
  {
   "cell_type": "code",
   "execution_count": 9,
   "metadata": {},
   "outputs": [],
   "source": [
    "def sharesoutstanding(stats):\n",
    "    if stats[\"sharesOutstanding\"] is not None:\n",
    "        return float(stats[\"sharesOutstanding\"])\n",
    "    return 0.0"
   ]
  },
  {
   "cell_type": "code",
   "execution_count": 10,
   "metadata": {},
   "outputs": [],
   "source": [
    "# Current Ratio= Current Assets / Current Liabilities\n",
    "def currentRatio(balance_sheet):\n",
    "    if not(\"balancesheet\" in balance_sheet.keys()) or len(balance_sheet[\"balancesheet\"]) == 0:\n",
    "        return 0.0\n",
    "    latest_balance_sheet = balance_sheet[\"balancesheet\"][0]\n",
    "    if not(\"totalAssets\" in latest_balance_sheet.keys()) and not(\"totalLiabilities\" in latest_balance_sheet.keys()):\n",
    "        return 0.0\n",
    "    return float(latest_balance_sheet[\"totalAssets\"] / latest_balance_sheet[\"totalLiabilities\"])\n",
    "    "
   ]
  },
  {
   "cell_type": "code",
   "execution_count": 11,
   "metadata": {},
   "outputs": [],
   "source": [
    "def checkErningProgression(earnings, earning):\n",
    "    earnings = addTTMToYearLists(\"earnings\", earnings, earning)\n",
    "    if not(\"earnings\" in earnings.keys()) or len(earnings[\"earnings\"]) == 0:\n",
    "        return False\n",
    "    earningsSet = earnings[\"earnings\"][:-1]\n",
    "    yearAgoChangePercent = np.array([])\n",
    "    for earning in earningsSet:\n",
    "        if not(\"yearAgoChangePercent\" in earning.keys()):\n",
    "            return False\n",
    "        yearAgoChangePercent = np.append(yearAgoChangePercent, earning[\"yearAgoChangePercent\"])\n",
    "    isDecending = (yearAgoChangePercent == np.sort(yearAgoChangePercent)[::-1]).all()\n",
    "    return isDecending"
   ]
  },
  {
   "cell_type": "code",
   "execution_count": 12,
   "metadata": {},
   "outputs": [],
   "source": [
    "def sharesOutstanding(stats):\n",
    "    if stats[\"sharesOutstanding\"] is not None:\n",
    "        return float(stats[\"sharesOutstanding\"])\n",
    "    return 0.0"
   ]
  },
  {
   "cell_type": "code",
   "execution_count": 20,
   "metadata": {},
   "outputs": [],
   "source": [
    "def NetCurrentAssetValuePerShare(balanceSheet, stats, price):\n",
    "    #Net Current Asset Value = Current Assets – (Current Liabilities + Long-Term Liabilities) \n",
    "    shares_Outstanding = sharesOutstanding(stats)\n",
    "    if \"balancesheet\" in balance_sheet.keys() and len(balance_sheet[\"balancesheet\"]) > 0 and shares_Outstanding !=0:\n",
    "        latest_balance_sheet = balance_sheet[\"balancesheet\"][0]\n",
    "        if \"currentAssets\" in latest_balance_sheet.keys() and \"totalLiabilities\" in latest_balance_sheet.keys() and \"minorityInterest\" in latest_balance_sheet.keys():\n",
    "            print(latest_balance_sheet[\"currentAssets\"])\n",
    "            print(latest_balance_sheet[\"totalCurrentLiabilities\"])\n",
    "            print(shares_Outstanding)\n",
    "            netCurrentAssetValue = (latest_balance_sheet[\"currentAssets\"] - latest_balance_sheet[\"totalLiabilities\"] - latest_balance_sheet[\"minorityInterest\"]) / shares_Outstanding\n",
    "            return price/netCurrentAssetValue\n",
    "    return 0"
   ]
  },
  {
   "cell_type": "code",
   "execution_count": 21,
   "metadata": {},
   "outputs": [
    {
     "name": "stdout",
     "output_type": "stream",
     "text": [
      "18915000000\n",
      "20150000000\n",
      "637857000.0\n"
     ]
    },
    {
     "data": {
      "text/html": [
       "<div>\n",
       "<style scoped>\n",
       "    .dataframe tbody tr th:only-of-type {\n",
       "        vertical-align: middle;\n",
       "    }\n",
       "\n",
       "    .dataframe tbody tr th {\n",
       "        vertical-align: top;\n",
       "    }\n",
       "\n",
       "    .dataframe thead th {\n",
       "        text-align: right;\n",
       "    }\n",
       "</style>\n",
       "<table border=\"1\" class=\"dataframe\">\n",
       "  <thead>\n",
       "    <tr style=\"text-align: right;\">\n",
       "      <th></th>\n",
       "      <th>Ticker</th>\n",
       "      <th>Price</th>\n",
       "      <th>PE Ratio &lt; 15</th>\n",
       "      <th>Price To Book &lt; 1.5</th>\n",
       "      <th>PEG Ratio(1 and 0)</th>\n",
       "      <th>Debt to Equity (0 and 1.5)</th>\n",
       "      <th>Current Ratio &gt; 1.5</th>\n",
       "      <th>Earning Progression</th>\n",
       "      <th>NCAVPS</th>\n",
       "      <th>Points(5)</th>\n",
       "    </tr>\n",
       "  </thead>\n",
       "  <tbody>\n",
       "    <tr>\n",
       "      <th>0</th>\n",
       "      <td>DAL</td>\n",
       "      <td>32.82</td>\n",
       "      <td>-5.64</td>\n",
       "      <td>1.316582</td>\n",
       "      <td>0.02</td>\n",
       "      <td>1.12</td>\n",
       "      <td>1.136698</td>\n",
       "      <td>False</td>\n",
       "      <td>-70.009</td>\n",
       "      <td>3</td>\n",
       "    </tr>\n",
       "  </tbody>\n",
       "</table>\n",
       "</div>"
      ],
      "text/plain": [
       "  Ticker  Price  PE Ratio < 15  Price To Book < 1.5  PEG Ratio(1 and 0)  \\\n",
       "0    DAL  32.82          -5.64             1.316582                0.02   \n",
       "\n",
       "   Debt to Equity (0 and 1.5)  Current Ratio > 1.5  Earning Progression  \\\n",
       "0                        1.12             1.136698                False   \n",
       "\n",
       "   NCAVPS  Points(5)  \n",
       "0 -70.009          3  "
      ]
     },
     "execution_count": 21,
     "metadata": {},
     "output_type": "execute_result"
    }
   ],
   "source": [
    "tickers = ['DAL']\n",
    "dataSet = [] \n",
    "for ticker in tickers:\n",
    "    data = {}\n",
    "    points = 0\n",
    "    data[\"Ticker\"] = ticker\n",
    "    \n",
    "    # Major data set \n",
    "    stats = callApi(\"advanced-stats\", ticker)\n",
    "    earnings = callApi(\"earnings\", ticker, True)\n",
    "    earning = callApi(\"earnings\", ticker)\n",
    "    price = callApi(\"price\", ticker)\n",
    "    quote = callApi(\"quote\", ticker)\n",
    "    balance_sheet = callApi(\"balance-sheet\", ticker)\n",
    "    \n",
    "    data[\"Price\"] = price\n",
    "    # PE Ratio < 15\n",
    "    pe_ratio = peRatio(quote)\n",
    "    if pe_ratio != 0: \n",
    "        data[\"PE Ratio < 15\"] = pe_ratio\n",
    "    else: \n",
    "        data[\"PE Ratio < 15\"] = \"NA\"\n",
    "\n",
    "    # Price To Book Ratio  \n",
    "    price_to_book = priceToBook(stats)\n",
    "    if price_to_book != 0: \n",
    "        data[\"Price To Book < 1.5\"] = price_to_book\n",
    "    else: \n",
    "        data[\"Price To Book < 1.5\"] = \"NA\"\n",
    "    \n",
    "    if pe_ratio * price_to_book < 22.5 and pe_ratio * price_to_book > 0: \n",
    "        points += 1\n",
    "    \n",
    "    # PEG Ratio \n",
    "    peg_ratio = pegRatio(stats)\n",
    "    if peg_ratio != 0: \n",
    "        data[\"PEG Ratio(1 and 0)\"] = peg_ratio\n",
    "    else: \n",
    "        data[\"PEG Ratio(1 and 0)\"] = \"NA\"\n",
    "    if peg_ratio < 1.1 and peg_ratio > 0:\n",
    "        points += 1\n",
    "    \n",
    "    # Debt To Equity Ratio \n",
    "    # Warent buffet say < 0.5\n",
    "    debt_Equity = debtToEquity(stats)\n",
    "    if debt_Equity != 0: \n",
    "        data[\"Debt to Equity (0 and 1.5)\"] = debt_Equity\n",
    "    else: \n",
    "        data[\"Debt to Equity (0 and 1.5)\"] = \"NA\"\n",
    "    if debt_Equity < 1.6 and debt_Equity > 0:\n",
    "        points += 1\n",
    "        \n",
    "    # Current Ratio \n",
    "    current_ratio = currentRatio(balance_sheet)\n",
    "    if current_ratio != 0: \n",
    "        data[\"Current Ratio > 1.5\"] = current_ratio\n",
    "    else: \n",
    "        data[\"Current Ratio > 1.5\"] = \"NA\"\n",
    "        \n",
    "    if current_ratio > 1.4:\n",
    "        points += 1\n",
    "    \n",
    "    # Earning Progression Last 4 year \n",
    "    isProgressing = checkErningProgression(earnings, earning)\n",
    "    data[\"Earning Progression\"] =  isProgressing\n",
    "    if isProgressing:\n",
    "        points += 1\n",
    "    \n",
    "    # Net Current Asset Value Per Share\n",
    "    # Graham instituted a rule in which he would only consider buying a stock if its current price was trading at lower than 66% of its NCAVPS.\n",
    "    NCAVPS =NetCurrentAssetValuePerShare(balance_sheet, stats, price)\n",
    "    data[\"NCAVPS <66%\"] =  round(NCAVPS,3)\n",
    "    if NCAVPS < .66 and NCAVPS > 0:\n",
    "        points += 1\n",
    "    \n",
    "    data[\"Points(5)\"] = points\n",
    "\n",
    "    dataSet.append(data.copy())\n",
    "pd.DataFrame(dataSet)    "
   ]
  },
  {
   "cell_type": "code",
   "execution_count": 17,
   "metadata": {},
   "outputs": [],
   "source": [
    "balance_sheet = callApi(\"balance-sheet\", 'AAPL')"
   ]
  },
  {
   "cell_type": "code",
   "execution_count": 18,
   "metadata": {},
   "outputs": [
    {
     "data": {
      "text/plain": [
       "{'symbol': 'AAPL',\n",
       " 'balancesheet': [{'reportDate': '2020-06-30',\n",
       "   'fiscalDate': '2020-06-27',\n",
       "   'currency': 'USD',\n",
       "   'currentCash': 27295000000,\n",
       "   'shortTermInvestments': 65759000000,\n",
       "   'receivables': 17882000000,\n",
       "   'inventory': 3978000000,\n",
       "   'otherCurrentAssets': 10958000000,\n",
       "   'currentAssets': 140065000000,\n",
       "   'longTermInvestments': 102219000000,\n",
       "   'propertyPlantEquipment': 43851000000,\n",
       "   'goodwill': None,\n",
       "   'intangibleAssets': None,\n",
       "   'otherAssets': 31209000000,\n",
       "   'totalAssets': 317344000000,\n",
       "   'accountsPayable': 35325000000,\n",
       "   'currentLongTermDebt': 7529000000,\n",
       "   'otherCurrentLiabilities': 39945000000,\n",
       "   'totalCurrentLiabilities': 95318000000,\n",
       "   'longTermDebt': 102138000000,\n",
       "   'otherLiabilities': 19418000000,\n",
       "   'minorityInterest': 0,\n",
       "   'totalLiabilities': 245062000000,\n",
       "   'commonStock': 17135756000,\n",
       "   'retainedEarnings': 24136000000,\n",
       "   'treasuryStock': None,\n",
       "   'capitalSurplus': None,\n",
       "   'shareholderEquity': 72282000000,\n",
       "   'netTangibleAssets': 72282000000}]}"
      ]
     },
     "execution_count": 18,
     "metadata": {},
     "output_type": "execute_result"
    }
   ],
   "source": [
    "balance_sheet"
   ]
  },
  {
   "cell_type": "code",
   "execution_count": null,
   "metadata": {},
   "outputs": [],
   "source": []
  }
 ],
 "metadata": {
  "kernelspec": {
   "display_name": "Python 3",
   "language": "python",
   "name": "python3"
  },
  "language_info": {
   "codemirror_mode": {
    "name": "ipython",
    "version": 3
   },
   "file_extension": ".py",
   "mimetype": "text/x-python",
   "name": "python",
   "nbconvert_exporter": "python",
   "pygments_lexer": "ipython3",
   "version": "3.7.3"
  }
 },
 "nbformat": 4,
 "nbformat_minor": 4
}
