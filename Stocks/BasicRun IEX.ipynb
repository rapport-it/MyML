{
 "cells": [
  {
   "cell_type": "code",
   "execution_count": 1,
   "metadata": {},
   "outputs": [],
   "source": [
    "import pandas as pd\n",
    "import numpy as np\n",
    "import statistics\n",
    "import requests\n",
    "import json\n",
    "import yahoo_fin.stock_info as yahoo"
   ]
  },
  {
   "cell_type": "markdown",
   "metadata": {},
   "source": [
    "## API Call"
   ]
  },
  {
   "cell_type": "code",
   "execution_count": 2,
   "metadata": {},
   "outputs": [],
   "source": [
    "def callApiIEX(method, stock,isEarnings = False ):\n",
    "    key = \"token=\" + \"pk_ee5af08dfb9a419aaba2cbee77b80165\"\n",
    "    host = \"https://cloud.iexapis.com/stable/\"\n",
    "    ticker = \"stock/\"+ stock\n",
    "    api_method =\"/\" + method \n",
    "    query = \"?\"\n",
    "    period = \"period=annual\"\n",
    "    url = host + ticker + api_method + query + key \n",
    "    try:\n",
    "        response = requests.request(\"GET\", url)\n",
    "        balance_sheet = json.loads(response.text)\n",
    "        return balance_sheet\n",
    "    except ValueError:\n",
    "        print(\"Unknown expeption on\" + stock)\n",
    "        return {}"
   ]
  },
  {
   "cell_type": "code",
   "execution_count": 3,
   "metadata": {},
   "outputs": [],
   "source": [
    "\n",
    "def callApiYahoo(method, stock):\n",
    "    url = \"https://apidojo-yahoo-finance-v1.p.rapidapi.com/stock/v2/\" + method\n",
    "    querystring = {\"symbol\": stock }\n",
    "    headers = {\n",
    "        'x-rapidapi-host': \"apidojo-yahoo-finance-v1.p.rapidapi.com\",\n",
    "        'x-rapidapi-key': \"b057006049msh2dd6f48e0283787p151e0djsnf76cd322583c\"\n",
    "        }\n",
    "    try:\n",
    "        response = requests.request(\"GET\", url, headers=headers, params=querystring)\n",
    "        balance_sheet = json.loads(response.text)\n",
    "        return balance_sheet\n",
    "    except ValueError:\n",
    "        print(\"Unknown expeption on\" + stock)\n",
    "        return {}"
   ]
  },
  {
   "cell_type": "markdown",
   "metadata": {},
   "source": [
    "# Gat All tickers "
   ]
  },
  {
   "cell_type": "code",
   "execution_count": 4,
   "metadata": {},
   "outputs": [],
   "source": [
    "nasdaq = yahoo.tickers_nasdaq()\n",
    "SandP500 = yahoo.tickers_sp500()\n",
    "otherTickers = yahoo.tickers_other()"
   ]
  },
  {
   "cell_type": "markdown",
   "metadata": {},
   "source": [
    "# Basic Methods"
   ]
  },
  {
   "cell_type": "markdown",
   "metadata": {},
   "source": [
    "### IEX API"
   ]
  },
  {
   "cell_type": "code",
   "execution_count": 5,
   "metadata": {},
   "outputs": [],
   "source": [
    "def peRatio(quote):\n",
    "    if \"peRatio\" in quote.keys() and quote[\"peRatio\"] is not None:\n",
    "        return quote[\"peRatio\"]\n",
    "    else:\n",
    "        0.0"
   ]
  },
  {
   "cell_type": "code",
   "execution_count": 6,
   "metadata": {},
   "outputs": [],
   "source": [
    "def latestPrice(quote):\n",
    "    if \"latestPrice\" in quote.keys() and quote[\"latestPrice\"] is not None:\n",
    "        return quote[\"latestPrice\"]\n",
    "    else:\n",
    "        0.0"
   ]
  },
  {
   "cell_type": "code",
   "execution_count": 7,
   "metadata": {},
   "outputs": [],
   "source": [
    "def week52Low(quote):\n",
    "    if \"week52Low\" in quote.keys() and quote[\"week52Low\"] is not None:\n",
    "        return quote[\"week52Low\"]\n",
    "    else:\n",
    "        0.0"
   ]
  },
  {
   "cell_type": "code",
   "execution_count": 8,
   "metadata": {},
   "outputs": [],
   "source": [
    "def week52High(quote):\n",
    "    if \"week52High\" in quote.keys() and quote[\"week52High\"] is not None:\n",
    "        return quote[\"week52High\"]\n",
    "    else:\n",
    "        0.0"
   ]
  },
  {
   "cell_type": "code",
   "execution_count": 9,
   "metadata": {},
   "outputs": [],
   "source": [
    "def priceToBook(stats):\n",
    "    if \"priceToBook\" in stats.keys() and stats[\"priceToBook\"] is not None:\n",
    "        return float(stats[\"priceToBook\"])\n",
    "    return 0.0"
   ]
  },
  {
   "cell_type": "code",
   "execution_count": 11,
   "metadata": {},
   "outputs": [
    {
     "name": "stdout",
     "output_type": "stream",
     "text": [
      "Unknown expeption onAPPL\n"
     ]
    },
    {
     "data": {
      "text/html": [
       "<div>\n",
       "<style scoped>\n",
       "    .dataframe tbody tr th:only-of-type {\n",
       "        vertical-align: middle;\n",
       "    }\n",
       "\n",
       "    .dataframe tbody tr th {\n",
       "        vertical-align: top;\n",
       "    }\n",
       "\n",
       "    .dataframe thead th {\n",
       "        text-align: right;\n",
       "    }\n",
       "</style>\n",
       "<table border=\"1\" class=\"dataframe\">\n",
       "  <thead>\n",
       "    <tr style=\"text-align: right;\">\n",
       "      <th></th>\n",
       "      <th>Ticker</th>\n",
       "      <th>Price_Book &lt; 1.5</th>\n",
       "      <th>PE Ratio &lt; 15</th>\n",
       "    </tr>\n",
       "  </thead>\n",
       "  <tbody>\n",
       "    <tr>\n",
       "      <th>0</th>\n",
       "      <td>LUV</td>\n",
       "      <td>2.336810</td>\n",
       "      <td>97.18</td>\n",
       "    </tr>\n",
       "    <tr>\n",
       "      <th>1</th>\n",
       "      <td>TELA</td>\n",
       "      <td>7.416130</td>\n",
       "      <td>-6.85</td>\n",
       "    </tr>\n",
       "    <tr>\n",
       "      <th>2</th>\n",
       "      <td>FB</td>\n",
       "      <td>6.343194</td>\n",
       "      <td>33.35</td>\n",
       "    </tr>\n",
       "    <tr>\n",
       "      <th>3</th>\n",
       "      <td>MAR</td>\n",
       "      <td>45.791617</td>\n",
       "      <td>73.81</td>\n",
       "    </tr>\n",
       "    <tr>\n",
       "      <th>4</th>\n",
       "      <td>JPM</td>\n",
       "      <td>1.178667</td>\n",
       "      <td>13.86</td>\n",
       "    </tr>\n",
       "    <tr>\n",
       "      <th>5</th>\n",
       "      <td>HTZ</td>\n",
       "      <td>0.120091</td>\n",
       "      <td>-0.17</td>\n",
       "    </tr>\n",
       "    <tr>\n",
       "      <th>6</th>\n",
       "      <td>DAL</td>\n",
       "      <td>1.316582</td>\n",
       "      <td>-5.56</td>\n",
       "    </tr>\n",
       "    <tr>\n",
       "      <th>7</th>\n",
       "      <td>APPL</td>\n",
       "      <td>0.000000</td>\n",
       "      <td>NaN</td>\n",
       "    </tr>\n",
       "  </tbody>\n",
       "</table>\n",
       "</div>"
      ],
      "text/plain": [
       "  Ticker  Price_Book < 1.5  PE Ratio < 15\n",
       "0    LUV          2.336810          97.18\n",
       "1   TELA          7.416130          -6.85\n",
       "2     FB          6.343194          33.35\n",
       "3    MAR         45.791617          73.81\n",
       "4    JPM          1.178667          13.86\n",
       "5    HTZ          0.120091          -0.17\n",
       "6    DAL          1.316582          -5.56\n",
       "7   APPL          0.000000            NaN"
      ]
     },
     "execution_count": 11,
     "metadata": {},
     "output_type": "execute_result"
    }
   ],
   "source": [
    "tickers = ['LUV','TELA', 'FB', 'MAR', 'JPM','HTZ', 'DAL', 'APPL']\n",
    "dataSet = [] \n",
    "for ticker in tickers:\n",
    "    data = {}\n",
    "    \n",
    "    data[\"Ticker\"] = ticker\n",
    "\n",
    "    # Major data set \n",
    "    quote = callApiIEX(\"quote\", ticker)\n",
    "    stats = callApiIEX(\"advanced-stats\", ticker)\n",
    "    \n",
    "    price_Book = priceToBook(stats)\n",
    "    pe_Value = peRatio(quote)\n",
    "    \n",
    "    data[\"Price_Book < 1.5\"] = price_Book\n",
    "    data[\"PE Ratio < 15\"] = pe_Value\n",
    "\n",
    "    dataSet.append(data.copy())\n",
    "pd.DataFrame(dataSet)    "
   ]
  },
  {
   "cell_type": "code",
   "execution_count": 12,
   "metadata": {},
   "outputs": [
    {
     "data": {
      "text/plain": [
       "3648"
      ]
     },
     "execution_count": 12,
     "metadata": {},
     "output_type": "execute_result"
    }
   ],
   "source": [
    "len(nasdaq)"
   ]
  },
  {
   "cell_type": "code",
   "execution_count": null,
   "metadata": {},
   "outputs": [],
   "source": []
  }
 ],
 "metadata": {
  "kernelspec": {
   "display_name": "Python 3",
   "language": "python",
   "name": "python3"
  },
  "language_info": {
   "codemirror_mode": {
    "name": "ipython",
    "version": 3
   },
   "file_extension": ".py",
   "mimetype": "text/x-python",
   "name": "python",
   "nbconvert_exporter": "python",
   "pygments_lexer": "ipython3",
   "version": "3.7.3"
  }
 },
 "nbformat": 4,
 "nbformat_minor": 4
}
