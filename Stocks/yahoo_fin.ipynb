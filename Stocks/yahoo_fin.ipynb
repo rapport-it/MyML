{
 "cells": [
  {
   "cell_type": "code",
   "execution_count": 9,
   "metadata": {},
   "outputs": [],
   "source": [
    "import yahoo_fin.stock_info as si\n",
    "import pandas as pd\n",
    "import math as math"
   ]
  },
  {
   "cell_type": "code",
   "execution_count": 13,
   "metadata": {},
   "outputs": [],
   "source": [
    "#Nasdaq: tickers_nasdaq()\n",
    "#S&P500: tickers_sp500()\n",
    "#Others: tickers_other()\n",
    "nasdaq = si.tickers_nasdaq()"
   ]
  },
  {
   "cell_type": "code",
   "execution_count": 60,
   "metadata": {},
   "outputs": [],
   "source": [
    "import requests\n",
    "import json\n",
    "def callApi(url, stock):\n",
    "\n",
    "    querystring = {\"symbol\": stock }\n",
    "\n",
    "    headers = {\n",
    "        'x-rapidapi-host': \"apidojo-yahoo-finance-v1.p.rapidapi.com\",\n",
    "        'x-rapidapi-key': \"b057006049msh2dd6f48e0283787p151e0djsnf76cd322583c\"\n",
    "        }\n",
    "    try:\n",
    "        response = requests.request(\"GET\", url, headers=headers, params=querystring)\n",
    "        balance_sheet = json.loads(response.text)\n",
    "        return balance_sheet\n",
    "    except ValueError:\n",
    "        print(\"Unknown expeption on\" + stock)\n",
    "        return {}"
   ]
  },
  {
   "cell_type": "code",
   "execution_count": 61,
   "metadata": {},
   "outputs": [],
   "source": [
    "def priceToBook(stock):\n",
    "    result = callApi(\"https://apidojo-yahoo-finance-v1.p.rapidapi.com/stock/v2/get-summary\", stock)\n",
    "    if \"raw\" in result[\"defaultKeyStatistics\"][\"priceToBook\"].keys():\n",
    "        return  result[\"defaultKeyStatistics\"][\"priceToBook\"][\"raw\"]\n",
    "    else:\n",
    "        return 0.0"
   ]
  },
  {
   "cell_type": "code",
   "execution_count": 3,
   "metadata": {},
   "outputs": [
    {
     "ename": "NameError",
     "evalue": "name 'priceToBook' is not defined",
     "output_type": "error",
     "traceback": [
      "\u001b[0;31m---------------------------------------------------------------------------\u001b[0m",
      "\u001b[0;31mNameError\u001b[0m                                 Traceback (most recent call last)",
      "\u001b[0;32m<ipython-input-3-017b00ecb544>\u001b[0m in \u001b[0;36m<module>\u001b[0;34m\u001b[0m\n\u001b[1;32m     12\u001b[0m         \u001b[0mprint\u001b[0m\u001b[0;34m(\u001b[0m\u001b[0mdata\u001b[0m\u001b[0;34m)\u001b[0m\u001b[0;34m\u001b[0m\u001b[0;34m\u001b[0m\u001b[0m\n\u001b[1;32m     13\u001b[0m     \u001b[0mtrailing_PE\u001b[0m \u001b[0;34m=\u001b[0m \u001b[0mfloat\u001b[0m\u001b[0;34m(\u001b[0m\u001b[0mdata\u001b[0m\u001b[0;34m[\u001b[0m\u001b[0;34m\"Recent < 15\"\u001b[0m\u001b[0;34m]\u001b[0m\u001b[0;34m)\u001b[0m\u001b[0;34m\u001b[0m\u001b[0;34m\u001b[0m\u001b[0m\n\u001b[0;32m---> 14\u001b[0;31m     \u001b[0mprice_Book\u001b[0m \u001b[0;34m=\u001b[0m \u001b[0mpriceToBook\u001b[0m\u001b[0;34m(\u001b[0m\u001b[0mticker\u001b[0m\u001b[0;34m)\u001b[0m\u001b[0;34m\u001b[0m\u001b[0;34m\u001b[0m\u001b[0m\n\u001b[0m\u001b[1;32m     15\u001b[0m     \u001b[0mdata\u001b[0m\u001b[0;34m[\u001b[0m\u001b[0;34m\"Ticker\"\u001b[0m\u001b[0;34m]\u001b[0m \u001b[0;34m=\u001b[0m \u001b[0mticker\u001b[0m\u001b[0;34m\u001b[0m\u001b[0;34m\u001b[0m\u001b[0m\n\u001b[1;32m     16\u001b[0m     \u001b[0mdata\u001b[0m\u001b[0;34m[\u001b[0m\u001b[0;34m\"price_Book < 1.5\"\u001b[0m\u001b[0;34m]\u001b[0m \u001b[0;34m=\u001b[0m \u001b[0mprice_Book\u001b[0m\u001b[0;34m\u001b[0m\u001b[0;34m\u001b[0m\u001b[0m\n",
      "\u001b[0;31mNameError\u001b[0m: name 'priceToBook' is not defined"
     ]
    }
   ],
   "source": [
    "sp500 =['LUV']#['LUV','TELA', 'FB', 'MAR', 'JPM','HTZ', 'DAL' ]\n",
    "dow_stats = {}\n",
    "data = {} \n",
    "for ticker in sp500:\n",
    "    data = si.get_stats_valuation(ticker)\n",
    "    data = data.iloc[:,:2]\n",
    "    data.columns = [\"Attribute\", \"Recent < 15\"]\n",
    "    data = data[data[\"Attribute\"]==\"Trailing P/E\"]\n",
    "    if math.isnan(float(data[\"Recent < 15\"])): \n",
    "        data = data.iloc[:,:3]\n",
    "        data = data[data[\"Attribute\"]==\"Forward P/E\"]\n",
    "        print(data)\n",
    "    trailing_PE = float(data[\"Recent < 15\"])\n",
    "    price_Book = priceToBook(ticker)\n",
    "    data[\"Ticker\"] = ticker\n",
    "    data[\"price_Book < 1.5\"] = price_Book\n",
    "    validate = trailing_PE * price_Book\n",
    "    data[\"validate < 22.5\"] = validate\n",
    "    if validate < 22.5:\n",
    "        data[\"Need a look\"] = True\n",
    "    else: \n",
    "        data[\"Need a look\"] = False"
   ]
  },
  {
   "cell_type": "code",
   "execution_count": 67,
   "metadata": {
    "code_folding": []
   },
   "outputs": [],
   "source": [
    "def peValue(stock):\n",
    "    result = callApi(\"https://apidojo-yahoo-finance-v1.p.rapidapi.com/stock/v2/get-summary\", stock)\n",
    "    trailingPE = {}\n",
    "    forwardPE = {}\n",
    "    if not(\"summaryDetail\" in result.keys()):\n",
    "        return {\"trailingPE\": 0.0, \"forwardPE\":0.0}  \n",
    "    if (\"trailingPE\" in result[\"summaryDetail\"].keys()) and (\"raw\" in result[\"summaryDetail\"][\"trailingPE\"].keys()):\n",
    "        trailingPE =  result[\"summaryDetail\"][\"trailingPE\"][\"raw\"]\n",
    "    else: \n",
    "        trailingPE = 0.0\n",
    "    if \"forwardPE\" in result[\"summaryDetail\"].keys() and \"raw\" in result[\"summaryDetail\"][\"forwardPE\"].keys():\n",
    "        forwardPE =   result[\"summaryDetail\"][\"forwardPE\"][\"raw\"]\n",
    "    else:\n",
    "        forwardPE = 0.0\n",
    "    return {\"trailingPE\": trailingPE, \"forwardPE\":forwardPE} "
   ]
  },
  {
   "cell_type": "code",
   "execution_count": 29,
   "metadata": {},
   "outputs": [
    {
     "data": {
      "text/plain": [
       "{'trailingPE': 0.0, 'forwardPE': 525.75806}"
      ]
     },
     "execution_count": 29,
     "metadata": {},
     "output_type": "execute_result"
    }
   ],
   "source": [
    "peValue('COUP')"
   ]
  },
  {
   "cell_type": "code",
   "execution_count": 68,
   "metadata": {},
   "outputs": [],
   "source": [
    "\n",
    "tickers = ['LUV','TELA', 'FB', 'MAR', 'JPM','HTZ', 'DAL' ]\n",
    "dataSet = [] \n",
    "for ticker in tickers:\n",
    "    price_Book = priceToBook(ticker)\n",
    "    pe_Value = peValue(ticker)\n",
    "    data[\"Ticker\"] = ticker\n",
    "    data[\"Price_Book < 1.5\"] = price_Book\n",
    "    data[\"TrailingPE < 15\"] = pe_Value[\"trailingPE\"]\n",
    "    data[\"ForwardPE < 15\"] = pe_Value[\"forwardPE\"]\n",
    "    validate = 0.0\n",
    "    \n",
    "    if pe_Value['trailingPE'] != 0:\n",
    "        validate = pe_Value['trailingPE'] * price_Book\n",
    "        data[\"Trailing Value < 22.5\"] = validate\n",
    "        if validate < 22.5 and price_Book != 0:\n",
    "            data[\"Trailing Look\"] = True\n",
    "        else: \n",
    "            data[\"Trailing Look\"] = False \n",
    "    else:\n",
    "        data[\"Trailing Value < 22.5\"] = 0\n",
    "        data[\"Trailing Look\"] = False\n",
    "        \n",
    "    if pe_Value['forwardPE'] != 0 and price_Book != 0:\n",
    "        validate = pe_Value['forwardPE'] * price_Book\n",
    "        data[\"Forward Value < 22.5\"] = validate\n",
    "        if validate < 22.5:\n",
    "            data[\"Forward Look\"] = True\n",
    "        else: \n",
    "            data[\"Forward Look\"] = False\n",
    "    else:\n",
    "        data[\"Forward Value < 22.5\"] = 0\n",
    "        data[\"Forward Look\"] = False\n",
    "    dataSet.append(data.copy())\n"
   ]
  },
  {
   "cell_type": "code",
   "execution_count": 69,
   "metadata": {},
   "outputs": [
    {
     "data": {
      "text/html": [
       "<div>\n",
       "<style scoped>\n",
       "    .dataframe tbody tr th:only-of-type {\n",
       "        vertical-align: middle;\n",
       "    }\n",
       "\n",
       "    .dataframe tbody tr th {\n",
       "        vertical-align: top;\n",
       "    }\n",
       "\n",
       "    .dataframe thead th {\n",
       "        text-align: right;\n",
       "    }\n",
       "</style>\n",
       "<table border=\"1\" class=\"dataframe\">\n",
       "  <thead>\n",
       "    <tr style=\"text-align: right;\">\n",
       "      <th></th>\n",
       "      <th>Ticker</th>\n",
       "      <th>Price_Book &lt; 1.5</th>\n",
       "      <th>TrailingPE &lt; 15</th>\n",
       "      <th>ForwardPE &lt; 15</th>\n",
       "      <th>Trailing Value &lt; 22.5</th>\n",
       "      <th>Trailing Look</th>\n",
       "      <th>Forward Value &lt; 22.5</th>\n",
       "      <th>Forward Look</th>\n",
       "    </tr>\n",
       "  </thead>\n",
       "  <tbody>\n",
       "    <tr>\n",
       "      <th>0</th>\n",
       "      <td>LUV</td>\n",
       "      <td>2.104550</td>\n",
       "      <td>127.245900</td>\n",
       "      <td>23.521214</td>\n",
       "      <td>267.795308</td>\n",
       "      <td>False</td>\n",
       "      <td>49.501562</td>\n",
       "      <td>False</td>\n",
       "    </tr>\n",
       "    <tr>\n",
       "      <th>1</th>\n",
       "      <td>TELA</td>\n",
       "      <td>3.066606</td>\n",
       "      <td>0.000000</td>\n",
       "      <td>-7.982248</td>\n",
       "      <td>0.000000</td>\n",
       "      <td>False</td>\n",
       "      <td>-24.478409</td>\n",
       "      <td>True</td>\n",
       "    </tr>\n",
       "    <tr>\n",
       "      <th>2</th>\n",
       "      <td>FB</td>\n",
       "      <td>7.577736</td>\n",
       "      <td>35.908535</td>\n",
       "      <td>28.932022</td>\n",
       "      <td>272.105413</td>\n",
       "      <td>False</td>\n",
       "      <td>219.239236</td>\n",
       "      <td>False</td>\n",
       "    </tr>\n",
       "    <tr>\n",
       "      <th>3</th>\n",
       "      <td>MAR</td>\n",
       "      <td>0.000000</td>\n",
       "      <td>75.576100</td>\n",
       "      <td>34.500000</td>\n",
       "      <td>0.000000</td>\n",
       "      <td>False</td>\n",
       "      <td>0.000000</td>\n",
       "      <td>False</td>\n",
       "    </tr>\n",
       "    <tr>\n",
       "      <th>4</th>\n",
       "      <td>JPM</td>\n",
       "      <td>1.336063</td>\n",
       "      <td>13.759540</td>\n",
       "      <td>11.651927</td>\n",
       "      <td>18.383618</td>\n",
       "      <td>True</td>\n",
       "      <td>15.567713</td>\n",
       "      <td>True</td>\n",
       "    </tr>\n",
       "    <tr>\n",
       "      <th>5</th>\n",
       "      <td>HTZ</td>\n",
       "      <td>0.421906</td>\n",
       "      <td>0.000000</td>\n",
       "      <td>-1.324561</td>\n",
       "      <td>0.000000</td>\n",
       "      <td>False</td>\n",
       "      <td>-0.558840</td>\n",
       "      <td>True</td>\n",
       "    </tr>\n",
       "    <tr>\n",
       "      <th>6</th>\n",
       "      <td>DAL</td>\n",
       "      <td>2.338621</td>\n",
       "      <td>0.000000</td>\n",
       "      <td>16.661459</td>\n",
       "      <td>0.000000</td>\n",
       "      <td>False</td>\n",
       "      <td>38.964840</td>\n",
       "      <td>False</td>\n",
       "    </tr>\n",
       "  </tbody>\n",
       "</table>\n",
       "</div>"
      ],
      "text/plain": [
       "  Ticker  Price_Book < 1.5  TrailingPE < 15  ForwardPE < 15  \\\n",
       "0    LUV          2.104550       127.245900       23.521214   \n",
       "1   TELA          3.066606         0.000000       -7.982248   \n",
       "2     FB          7.577736        35.908535       28.932022   \n",
       "3    MAR          0.000000        75.576100       34.500000   \n",
       "4    JPM          1.336063        13.759540       11.651927   \n",
       "5    HTZ          0.421906         0.000000       -1.324561   \n",
       "6    DAL          2.338621         0.000000       16.661459   \n",
       "\n",
       "   Trailing Value < 22.5  Trailing Look  Forward Value < 22.5  Forward Look  \n",
       "0             267.795308          False             49.501562         False  \n",
       "1               0.000000          False            -24.478409          True  \n",
       "2             272.105413          False            219.239236         False  \n",
       "3               0.000000          False              0.000000         False  \n",
       "4              18.383618           True             15.567713          True  \n",
       "5               0.000000          False             -0.558840          True  \n",
       "6               0.000000          False             38.964840         False  "
      ]
     },
     "execution_count": 69,
     "metadata": {},
     "output_type": "execute_result"
    }
   ],
   "source": [
    "pd.DataFrame(dataSet)"
   ]
  },
  {
   "cell_type": "code",
   "execution_count": null,
   "metadata": {},
   "outputs": [],
   "source": []
  }
 ],
 "metadata": {
  "kernelspec": {
   "display_name": "Python 3",
   "language": "python",
   "name": "python3"
  },
  "language_info": {
   "codemirror_mode": {
    "name": "ipython",
    "version": 3
   },
   "file_extension": ".py",
   "mimetype": "text/x-python",
   "name": "python",
   "nbconvert_exporter": "python",
   "pygments_lexer": "ipython3",
   "version": "3.7.3"
  }
 },
 "nbformat": 4,
 "nbformat_minor": 4
}
