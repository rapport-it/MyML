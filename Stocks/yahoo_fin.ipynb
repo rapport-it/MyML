{
 "cells": [
  {
   "cell_type": "code",
   "execution_count": 1,
   "metadata": {},
   "outputs": [],
   "source": [
    "import yahoo_fin.stock_info as si\n",
    "import pandas as pd"
   ]
  },
  {
   "cell_type": "code",
   "execution_count": 13,
   "metadata": {},
   "outputs": [],
   "source": [
    "#Nasdaq: tickers_nasdaq()\n",
    "#S&P500: tickers_sp500()\n",
    "#Others: tickers_other()\n",
    "nasdaq = si.tickers_nasdaq()"
   ]
  },
  {
   "cell_type": "code",
   "execution_count": 14,
   "metadata": {},
   "outputs": [],
   "source": [
    "import requests\n",
    "import json\n",
    "def callApi(url, stock):\n",
    "\n",
    "    querystring = {\"symbol\": stock }\n",
    "\n",
    "    headers = {\n",
    "        'x-rapidapi-host': \"apidojo-yahoo-finance-v1.p.rapidapi.com\",\n",
    "        'x-rapidapi-key': \"b057006049msh2dd6f48e0283787p151e0djsnf76cd322583c\"\n",
    "        }\n",
    "\n",
    "    response = requests.request(\"GET\", url, headers=headers, params=querystring)\n",
    "    balance_sheet = json.loads(response.text)\n",
    "    return balance_sheet"
   ]
  },
  {
   "cell_type": "code",
   "execution_count": 81,
   "metadata": {},
   "outputs": [],
   "source": [
    "def priceToBook(stocks):\n",
    "    for stock in stocks:\n",
    "        result = callApi(\"https://apidojo-yahoo-finance-v1.p.rapidapi.com/stock/v2/get-summary\", stock)\n",
    "        if \"raw\" in result[\"defaultKeyStatistics\"][\"priceToBook\"].keys():\n",
    "            return  result[\"defaultKeyStatistics\"][\"priceToBook\"][\"raw\"]\n",
    "        else:\n",
    "            return 0.0"
   ]
  },
  {
   "cell_type": "code",
   "execution_count": 33,
   "metadata": {},
   "outputs": [
    {
     "name": "stdout",
     "output_type": "stream",
     "text": [
      "0.6018322\n",
      "                    Unnamed: 0 As of Date: 8/28/2020Current\n",
      "0      Market Cap (intraday) 5                       22.21B\n",
      "1           Enterprise Value 3                       19.17B\n",
      "2                 Trailing P/E                       110.74\n",
      "3                Forward P/E 1                         9.90\n",
      "4  PEG Ratio (5 yr expected) 1                         1.64\n",
      "5            Price/Sales (ttm)                         1.21\n",
      "6             Price/Book (mrq)                         2.04\n",
      "7   Enterprise Value/Revenue 3                         1.15\n",
      "8    Enterprise Value/EBITDA 6                        12.81\n",
      "{'LUV':                      Attribute  Recent\n",
      "0      Market Cap (intraday) 5  22.21B\n",
      "1           Enterprise Value 3  19.17B\n",
      "2                 Trailing P/E  110.74\n",
      "3                Forward P/E 1    9.90\n",
      "4  PEG Ratio (5 yr expected) 1    1.64\n",
      "5            Price/Sales (ttm)    1.21\n",
      "6             Price/Book (mrq)    2.04\n",
      "7   Enterprise Value/Revenue 3    1.15\n",
      "8    Enterprise Value/EBITDA 6   12.81}\n"
     ]
    },
    {
     "data": {
      "text/html": [
       "<div>\n",
       "<style scoped>\n",
       "    .dataframe tbody tr th:only-of-type {\n",
       "        vertical-align: middle;\n",
       "    }\n",
       "\n",
       "    .dataframe tbody tr th {\n",
       "        vertical-align: top;\n",
       "    }\n",
       "\n",
       "    .dataframe thead th {\n",
       "        text-align: right;\n",
       "    }\n",
       "</style>\n",
       "<table border=\"1\" class=\"dataframe\">\n",
       "  <thead>\n",
       "    <tr style=\"text-align: right;\">\n",
       "      <th></th>\n",
       "      <th>index</th>\n",
       "      <th>Ticker</th>\n",
       "      <th>Attribute</th>\n",
       "      <th>Recent</th>\n",
       "    </tr>\n",
       "  </thead>\n",
       "  <tbody>\n",
       "    <tr>\n",
       "      <th>0</th>\n",
       "      <td>2</td>\n",
       "      <td>LUV</td>\n",
       "      <td>Trailing P/E</td>\n",
       "      <td>110.74</td>\n",
       "    </tr>\n",
       "  </tbody>\n",
       "</table>\n",
       "</div>"
      ],
      "text/plain": [
       "   index Ticker     Attribute  Recent\n",
       "0      2    LUV  Trailing P/E  110.74"
      ]
     },
     "execution_count": 33,
     "metadata": {},
     "output_type": "execute_result"
    }
   ],
   "source": [
    "#P/E Ratio= Earnings per Share / Price per Share\n",
    "\n",
    "sp500 =['LUV']\n",
    "dow_stats = {}\n",
    "priceBook = {} \n",
    "for ticker in sp500:\n",
    "    price_Book = priceToBook(ticker)\n",
    "    temp = si.get_stats_valuation(ticker)\n",
    "    print(price_Book)\n",
    "    temp = temp.iloc[:,:2]\n",
    "    print(temp)\n",
    "    temp.columns = [\"Attribute\", \"Recent\"]\n",
    "    dow_stats[ticker] = temp\n",
    "    priceBook[ticker] = price_Book\n",
    "\n",
    "    \n",
    "combined_stats = pd.concat(dow_stats)\n",
    "combined_stats = combined_stats.reset_index()\n",
    "del combined_stats[\"level_1\"]\n",
    "# update column names\n",
    "combined_stats.columns = [\"Ticker\", \"Attribute\", \"Recent\"]\n",
    "pe_ratios = combined_stats[combined_stats[\"Attribute\"]==\"Trailing P/E\"].reset_index()\n",
    "pe_ratios"
   ]
  },
  {
   "cell_type": "code",
   "execution_count": 84,
   "metadata": {},
   "outputs": [
    {
     "name": "stdout",
     "output_type": "stream",
     "text": [
      "      Attribute Recent < 15 Ticker  price_Book < 1.5  validate < 22.5  \\\n",
      "2  Trailing P/E      110.74    LUV          0.601832        66.646898   \n",
      "\n",
      "   Need a look  \n",
      "2        False  \n",
      "      Attribute Recent < 15 Ticker  price_Book < 1.5  validate < 22.5  \\\n",
      "2  Trailing P/E         NaN   TELA          1.216884              NaN   \n",
      "\n",
      "   Need a look  \n",
      "2        False  \n",
      "      Attribute Recent < 15 Ticker  price_Book < 1.5  validate < 22.5  \\\n",
      "2  Trailing P/E       35.85     FB          0.895715        32.111383   \n",
      "\n",
      "   Need a look  \n",
      "2        False  \n",
      "      Attribute Recent < 15 Ticker  price_Book < 1.5  validate < 22.5  \\\n",
      "2  Trailing P/E       73.76    MAR          0.799494        58.970666   \n",
      "\n",
      "   Need a look  \n",
      "2        False  \n",
      "      Attribute Recent < 15 Ticker  price_Book < 1.5  validate < 22.5  \\\n",
      "2  Trailing P/E       13.78    JPM               0.0              0.0   \n",
      "\n",
      "   Need a look  \n",
      "2         True  \n",
      "      Attribute Recent < 15 Ticker  price_Book < 1.5  validate < 22.5  \\\n",
      "2  Trailing P/E         NaN    HTZ          1.714484              NaN   \n",
      "\n",
      "   Need a look  \n",
      "2        False  \n",
      "      Attribute Recent < 15 Ticker  price_Book < 1.5  validate < 22.5  \\\n",
      "2  Trailing P/E        4.86    DAL          2.474547        12.026299   \n",
      "\n",
      "   Need a look  \n",
      "2         True  \n"
     ]
    }
   ],
   "source": [
    "sp500 =['LUV','TELA', 'FB', 'MAR', 'JPM','HTZ', 'DAL' ]\n",
    "dow_stats = {}\n",
    "data = {} \n",
    "for ticker in sp500:\n",
    "    data = si.get_stats_valuation(ticker)\n",
    "    data = data.iloc[:,:2]\n",
    "    data.columns = [\"Attribute\", \"Recent < 15\"]\n",
    "    data = data[data[\"Attribute\"]==\"Trailing P/E\"]\n",
    "    trailing_PE = float(data[\"Recent < 15\"])\n",
    "    price_Book = priceToBook(ticker)\n",
    "    data[\"Ticker\"] = ticker\n",
    "    data[\"price_Book < 1.5\"] = price_Book\n",
    "    validate = trailing_PE * price_Book\n",
    "    data[\"validate < 22.5\"] = validate\n",
    "    if validate < 22.5:\n",
    "        data[\"Need a look\"] = True\n",
    "    else: \n",
    "        data[\"Need a look\"] = False\n",
    "    print(data)"
   ]
  },
  {
   "cell_type": "code",
   "execution_count": 78,
   "metadata": {},
   "outputs": [
    {
     "data": {
      "text/plain": [
       "10000.0"
      ]
     },
     "execution_count": 78,
     "metadata": {},
     "output_type": "execute_result"
    }
   ],
   "source": [
    "priceToBook('JPM')"
   ]
  },
  {
   "cell_type": "code",
   "execution_count": 82,
   "metadata": {},
   "outputs": [],
   "source": [
    "import seaborn as sea"
   ]
  },
  {
   "cell_type": "code",
   "execution_count": 83,
   "metadata": {},
   "outputs": [
    {
     "data": {
      "text/plain": [
       "<matplotlib.axes._subplots.AxesSubplot at 0x1a23911f98>"
      ]
     },
     "execution_count": 83,
     "metadata": {},
     "output_type": "execute_result"
    },
    {
     "data": {
      "image/png": "[encoded data removed]",
      "text/plain": [
       "<Figure size 432x288 with 1 Axes>"
      ]
     },
     "metadata": {
      "needs_background": "light"
     },
     "output_type": "display_data"
    }
   ],
   "source": [
    "data.plot(kind = 'bar')"
   ]
  },
  {
   "cell_type": "code",
   "execution_count": null,
   "metadata": {},
   "outputs": [],
   "source": []
  }
 ],
 "metadata": {
  "kernelspec": {
   "display_name": "Python 3",
   "language": "python",
   "name": "python3"
  },
  "language_info": {
   "codemirror_mode": {
    "name": "ipython",
    "version": 3
   },
   "file_extension": ".py",
   "mimetype": "text/x-python",
   "name": "python",
   "nbconvert_exporter": "python",
   "pygments_lexer": "ipython3",
   "version": "3.7.3"
  }
 },
 "nbformat": 4,
 "nbformat_minor": 4
}
