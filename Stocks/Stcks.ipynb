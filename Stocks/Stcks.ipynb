{
 "cells": [
  {
   "cell_type": "code",
   "execution_count": 1,
   "metadata": {},
   "outputs": [],
   "source": [
    "#https://rapidapi.com/apidojo/api/yahoo-finance1?endpoint=apiendpoint_f6ed13cb-defc-468f-a6a0-ee4ad28bf8af\n",
    "import requests\n",
    "import json\n",
    "def callApi(url, stock):\n",
    "\n",
    "    querystring = {\"symbol\": stock }\n",
    "\n",
    "    headers = {\n",
    "        'x-rapidapi-host': \"apidojo-yahoo-finance-v1.p.rapidapi.com\",\n",
    "        'x-rapidapi-key': \"b057006049msh2dd6f48e0283787p151e0djsnf76cd322583c\"\n",
    "        }\n",
    "\n",
    "    response = requests.request(\"GET\", url, headers=headers, params=querystring)\n",
    "    balance_sheet = json.loads(response.text)\n",
    "    return balance_sheet"
   ]
  },
  {
   "cell_type": "code",
   "execution_count": 2,
   "metadata": {
    "code_folding": []
   },
   "outputs": [],
   "source": [
    "def pegRatio(stocks):\n",
    "    for stock in stocks:\n",
    "        result = callApi(\"https://apidojo-yahoo-finance-v1.p.rapidapi.com/stock/v2/get-summary\", stock)\n",
    "        print(stock, result[\"defaultKeyStatistics\"][\"pegRatio\"], \"\\n\")\n",
    "        print(stock, result[\"defaultKeyStatistics\"][\"priceToBook\"], \"\\n\")\n",
    "        "
   ]
  },
  {
   "cell_type": "code",
   "execution_count": 3,
   "metadata": {},
   "outputs": [
    {
     "name": "stdout",
     "output_type": "stream",
     "text": [
      "FB {'raw': 2.15, 'fmt': '2.15'} \n",
      "\n",
      "FB {'raw': 7.5777364, 'fmt': '7.58'} \n",
      "\n"
     ]
    }
   ],
   "source": [
    "pegRatio(['FB'])"
   ]
  },
  {
   "cell_type": "code",
   "execution_count": 91,
   "metadata": {},
   "outputs": [],
   "source": [
    "#https://github.com/petercerno/good-morning\n",
    "url = 'https://financials.morningstar.com/ratios/r.html?&callback=?&t={t}&region={reg}&culture={cult}&cur={cur}'.format(t='AAPL', reg='GBR', cult='en_US', cur='USD')\n",
    "#url = 'https://financials.morningstar.com/ajax/exportKR2CSV.html?&callback=?&t={t}&region={reg}&culture={cult}&cur={cur}'.format(t='AAPL', reg='GBR', cult='en_US', cur='USD')\n",
    "#url = (r'http://financials.morningstar.com/ajax/exportKR2CSV.html?'+ r'&callback=?&t={t}&region={reg}&culture={cult}&cur={cur}'.format(t='AAPL', reg='USA', cult='en_US', cur='USD'))"
   ]
  },
  {
   "cell_type": "code",
   "execution_count": 92,
   "metadata": {},
   "outputs": [
    {
     "data": {
      "text/plain": [
       "'https://financials.morningstar.com/ratios/r.html?&callback=?&t=AAPL&region=GBR&culture=en_US&cur=USD'"
      ]
     },
     "execution_count": 92,
     "metadata": {},
     "output_type": "execute_result"
    }
   ],
   "source": [
    "url"
   ]
  },
  {
   "cell_type": "code",
   "execution_count": 93,
   "metadata": {},
   "outputs": [],
   "source": [
    "import csv\n",
    "import json\n",
    "import numpy as np\n",
    "import pandas as pd\n",
    "import re\n",
    "import urllib.request\n",
    "from bs4 import BeautifulSoup\n",
    "from datetime import date"
   ]
  },
  {
   "cell_type": "code",
   "execution_count": 94,
   "metadata": {},
   "outputs": [],
   "source": [
    "def _parse_tables(response):\n",
    "        u\"\"\"Parses the given csv response from financials.morningstar.com.\n",
    "\n",
    "        :param response: Response from financials.morningstar.com.\n",
    "        :return: List of pairs, where the first item is the name of the table\n",
    "        (extracted from the response) and the second item is the corresponding\n",
    "        pandas.DataFrame table containing the data.\n",
    "        \"\"\"\n",
    "        # Regex pattern used to recognize csv lines containing financial data.\n",
    "        num_commas = 5\n",
    "        pat_commas = r'(.*,){%d,}' % num_commas\n",
    "        # Resulting array of pairs (table_name, table_frame).\n",
    "        tables = []\n",
    "        table_name = None\n",
    "        table_rows = None\n",
    "\n",
    "        for line in response:\n",
    "            line = line.decode(u'utf-8').strip()\n",
    "            match = re.match(pat_commas, line)\n",
    "            if match:\n",
    "                for row in csv.reader([line]):\n",
    "                    table_rows.append(row)\n",
    "            else:\n",
    "                if table_name and table_rows:\n",
    "                    tables.append([table_name, pd.DataFrame(table_rows)])\n",
    "                if line != u'':\n",
    "                    table_name = line\n",
    "                table_rows = []\n",
    "        if table_name and table_rows:\n",
    "            tables.append([table_name, pd.DataFrame(table_rows)])\n",
    "        return tables\n"
   ]
  },
  {
   "cell_type": "code",
   "execution_count": 95,
   "metadata": {},
   "outputs": [],
   "source": [
    "    def _parse_frames(tables, response_structure):\n",
    "        u\"\"\"Returns an array of processed pandas.DataFrames based on the\n",
    "        original list of tables and the special response_structure list.\n",
    "\n",
    "        :param tables: Original list of tables (obtained from _parse_tables).\n",
    "        :param response_structure: List of pairs (expected table name, new name\n",
    "        assigned to the corresponding (processed) pandas.DataFrame).\n",
    "        \"\"\"\n",
    "\n",
    "        #############################\n",
    "        # Error Handling\n",
    "        #############################\n",
    "\n",
    "        # Fail Early on Empty String\n",
    "        if len(tables) == 0:\n",
    "            return (\"MorningStar could not find the ticker\")\n",
    "\n",
    "        period_start = tables[0][1].ix[0][1]\n",
    "        period_month = pd.datetime.strptime(period_start, u'%Y-%m').month\n",
    "        #period_freq = pd.datetools.YearEnd(month=period_month)\n",
    "        period_freq = pd.tseries.offsets.YearEnd(month=period_month)\n",
    "        frames = []\n",
    "        for index, (check_name, frame_name) in enumerate(response_structure):\n",
    "            if frame_name and tables[index][0] == check_name:\n",
    "                frame = KeyRatiosDownloader._process_frame(\n",
    "                    tables[index][1], frame_name, period_start, period_freq)\n",
    "                if frame is not None and frame.index.size > 0:\n",
    "                    frames.append(frame)\n",
    "        return frames"
   ]
  },
  {
   "cell_type": "code",
   "execution_count": 97,
   "metadata": {},
   "outputs": [
    {
     "name": "stdout",
     "output_type": "stream",
     "text": [
      "[['\"area\":\"reports.stocks\",',                                  0                   1                     2  \\\n",
      "0  listpos:\"leaderboard\"+midPos1+\"  reportsSponsorLink  button120x60topright   \n",
      "\n",
      "             3             4       5                                 6 7  \n",
      "0  chrtxt30top  button195x90  footer  tickertapebutton\"+midPos2+extPos    ], ['}',                                                    0            1  \\\n",
      "0  </script><ul class='r_cnav_ads' ><li><a href=\"...  Morningstar   \n",
      "\n",
      "                                                   2            3  \\\n",
      "0  width=750,height=600,top=30,left=30,toolbar=ye...  Morningstar   \n",
      "\n",
      "                                                   4            5  \\\n",
      "0  width=500,height=255,top=30,left=30,toolbar=ye...  Morningstar   \n",
      "\n",
      "                                                   6  \n",
      "0  width=750,height=600,top=30,left=30,toolbar=ye...  ], ['</div>',                                                    0             1  \\\n",
      "0  <div class=\"f_Copyright_row1\">Independent. Ins...   mutual fund   \n",
      "\n",
      "                   2         3                                        4  \\\n",
      "0   and ETF research   ratings   and picks; portfolio tools; and option   \n",
      "\n",
      "             5     6      7                                                  8  \n",
      "0   hedge fund   IRA   401k   and 529 plan research. Our reliable data and ...  ], ['if (windowFeatures == \"\") {',                              0           1       2        3            4  \\\n",
      "0  windowFeatures = \"width=750  height=600  top=30  left=30  toolbar=yes   \n",
      "\n",
      "             5               6                7  \n",
      "0  menubar=yes  scrollbars=yes  resizable=yes\";  ], ['var url = server + \"/\" + type + \"/PrintReport.aspx?Symbol=\" + symbol.toUpperCase() + \"&Country=\" + countryid;',                            0               1            2           3       4  \\\n",
      "0  var win = window.open(url   \"PrintReport\"   \"width=500  height=255  top=30   \n",
      "\n",
      "         5            6            7               8                 9  \n",
      "0  left=30  menubar=yes  toolbar=yes  scrollbars=yes  resizable=yes\");  ]]\n"
     ]
    }
   ],
   "source": [
    "with urllib.request.urlopen(url) as response:\n",
    "            tables = _parse_tables(response)\n",
    "            response_structure = [\n",
    "                # Original Name, New pandas.DataFrame Name\n",
    "                (u'Financials', u'Key Financials'),\n",
    "                (u'Key Ratios -> Profitability', u'Key Margins % of Sales'),\n",
    "                (u'Key Ratios -> Profitability', u'Key Profitability'),\n",
    "                (u'Key Ratios -> Growth', None),\n",
    "                (u'Revenue %', u'Key Revenue %'),\n",
    "                (u'Operating Income %', u'Key Operating Income %'),\n",
    "                (u'Net Income %', u'Key Net Income %'),\n",
    "                (u'EPS %', u'Key EPS %'),\n",
    "                (u'Key Ratios -> Cash Flow', u'Key Cash Flow Ratios'),\n",
    "                (u'Key Ratios -> Financial Health',\n",
    "                 u'Key Balance Sheet Items (in %)'),\n",
    "                (u'Key Ratios -> Financial Health',\n",
    "                 u'Key Liquidity/Financial Health'),\n",
    "                (u'Key Ratios -> Efficiency Ratios', u'Key Efficiency Ratios')]\n",
    "            #frames = _parse_frames(tables, response_structure)\n",
    "            print(tables)"
   ]
  },
  {
   "cell_type": "code",
   "execution_count": null,
   "metadata": {},
   "outputs": [],
   "source": []
  }
 ],
 "metadata": {
  "kernelspec": {
   "display_name": "Python 3",
   "language": "python",
   "name": "python3"
  },
  "language_info": {
   "codemirror_mode": {
    "name": "ipython",
    "version": 3
   },
   "file_extension": ".py",
   "mimetype": "text/x-python",
   "name": "python",
   "nbconvert_exporter": "python",
   "pygments_lexer": "ipython3",
   "version": "3.7.3"
  }
 },
 "nbformat": 4,
 "nbformat_minor": 4
}
