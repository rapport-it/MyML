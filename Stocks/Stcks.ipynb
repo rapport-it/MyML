{
 "cells": [
  {
   "cell_type": "code",
   "execution_count": 31,
   "metadata": {},
   "outputs": [],
   "source": [
    "#https://rapidapi.com/apidojo/api/yahoo-finance1?endpoint=apiendpoint_f6ed13cb-defc-468f-a6a0-ee4ad28bf8af\n",
    "import requests\n",
    "import json\n",
    "def callApi(url, stock):\n",
    "\n",
    "    querystring = {\"symbol\": stock }\n",
    "\n",
    "    headers = {\n",
    "        'x-rapidapi-host': \"apidojo-yahoo-finance-v1.p.rapidapi.com\",\n",
    "        'x-rapidapi-key': \"b057006049msh2dd6f48e0283787p151e0djsnf76cd322583c\"\n",
    "        }\n",
    "\n",
    "    response = requests.request(\"GET\", url, headers=headers, params=querystring)\n",
    "    balance_sheet = json.loads(response.text)\n",
    "    return balance_sheet"
   ]
  },
  {
   "cell_type": "code",
   "execution_count": 35,
   "metadata": {
    "code_folding": []
   },
   "outputs": [],
   "source": [
    "def pegRatio(stocks):\n",
    "    for stock in stocks:\n",
    "        result = callApi(\"https://apidojo-yahoo-finance-v1.p.rapidapi.com/stock/v2/get-summary\", stock)\n",
    "        print(stock, result[\"defaultKeyStatistics\"][\"pegRatio\"], \"\\n\")"
   ]
  },
  {
   "cell_type": "code",
   "execution_count": 36,
   "metadata": {},
   "outputs": [
    {
     "name": "stdout",
     "output_type": "stream",
     "text": [
      "AAPL {'raw': 3.13, 'fmt': '3.13'} \n",
      "\n",
      "AMZN {'raw': 3.02, 'fmt': '3.02'} \n",
      "\n",
      "TSLA {'raw': 0.59, 'fmt': '0.59'} \n",
      "\n"
     ]
    }
   ],
   "source": [
    "pegRatio(['AAPL','AMZN', 'TSLA'])"
   ]
  },
  {
   "cell_type": "code",
   "execution_count": null,
   "metadata": {},
   "outputs": [],
   "source": []
  }
 ],
 "metadata": {
  "kernelspec": {
   "display_name": "Python 3",
   "language": "python",
   "name": "python3"
  },
  "language_info": {
   "codemirror_mode": {
    "name": "ipython",
    "version": 3
   },
   "file_extension": ".py",
   "mimetype": "text/x-python",
   "name": "python",
   "nbconvert_exporter": "python",
   "pygments_lexer": "ipython3",
   "version": "3.7.3"
  }
 },
 "nbformat": 4,
 "nbformat_minor": 4
}
