{
 "cells": [
  {
   "cell_type": "code",
   "execution_count": 4,
   "metadata": {},
   "outputs": [],
   "source": [
    "import pandas as pd\n",
    "import numpy as np\n",
    "import statistics\n",
    "import requests\n",
    "import json"
   ]
  },
  {
   "cell_type": "code",
   "execution_count": 13,
   "metadata": {},
   "outputs": [],
   "source": [
    "def callApi(method, stock, isSeriese = False):\n",
    "    key = \"token=\" + \"pk_ee5af08dfb9a419aaba2cbee77b80165\"\n",
    "    host = \"https://cloud.iexapis.com/stable/\"\n",
    "    ticker = \"stock/\"+ stock\n",
    "    api_method =\"/\" + method \n",
    "    query = \"?\"\n",
    "    add = \"&\"\n",
    "    last5 = \"/5y\"\n",
    "    last10 = \"/10\"\n",
    "    period = \"period=annual\"\n",
    "    if method == \"dividends\":\n",
    "        url = host + ticker + api_method + last5 + query + key\n",
    "    elif (method == \"financials\" or method == \"balance-sheet\") and isSeriese :\n",
    "        url = host + ticker + api_method + last10 + query + period + add + key\n",
    "    else:\n",
    "        url = host + ticker + api_method + query + key \n",
    "    try:\n",
    "        response = requests.request(\"GET\", url)\n",
    "        balance_sheet = json.loads(response.text)\n",
    "        return balance_sheet\n",
    "    except ValueError:\n",
    "        print(\"Unknown expeption on\" + stock)\n",
    "        return {}"
   ]
  },
  {
   "cell_type": "code",
   "execution_count": 33,
   "metadata": {},
   "outputs": [],
   "source": [
    "def avgDividends(ticker):\n",
    "    dividends = callApi(\"dividends\", ticker)\n",
    "    avgDividend = np.array([])\n",
    "    print(dividends)\n",
    "    for dividend in dividends:\n",
    "        print(dividend)\n",
    "        if \"amount\" in dividend.keys() and dividend[\"amount\"] != '': \n",
    "            if dividend[\"amount\"] is not None:\n",
    "                avgDividend = np.append(avgDividend, dividend[\"amount\"])\n",
    "    if len(avgDividend): \n",
    "        return statistics.mean(avgDividend) \n",
    "    else:  \n",
    "        return 0 "
   ]
  },
  {
   "cell_type": "code",
   "execution_count": 22,
   "metadata": {},
   "outputs": [],
   "source": [
    "def sharesOutstanding(ticker):\n",
    "    stats = callApi(\"stats\", ticker)\n",
    "    if not(\"sharesOutstanding\" in stats.keys()):\n",
    "        return 0.0\n",
    "    if stats[\"sharesOutstanding\"] is not None:\n",
    "        return float(stats[\"sharesOutstanding\"])\n",
    "    else:\n",
    "        return 0.0"
   ]
  },
  {
   "cell_type": "code",
   "execution_count": 16,
   "metadata": {},
   "outputs": [],
   "source": [
    "def futureValue(bookValue, period, rate ):\n",
    "    return bookValue * ((1 + rate) ** period )"
   ]
  },
  {
   "cell_type": "code",
   "execution_count": 17,
   "metadata": {},
   "outputs": [],
   "source": [
    "def bookValues(ticker):\n",
    "    balancesheets = callApi(\"balance-sheet\", ticker, True)\n",
    "    balancesheet = callApi(\"balance-sheet\", ticker)\n",
    "    balancesheets[\"balancesheet\"].insert(0, balancesheet[\"balancesheet\"][0])\n",
    "    if not(\"balancesheet\" in balancesheets.keys()) or len(balancesheets[\"balancesheet\"]) == 0:\n",
    "        return []\n",
    "    balancesheetsData = balancesheets[\"balancesheet\"]\n",
    "    bookValue = np.array([])\n",
    "    for bs in balancesheetsData:\n",
    "        treasuryStock = 0.0\n",
    "        if bs[\"treasuryStock\"] is not None:\n",
    "            treasuryStock = bs[\"treasuryStock\"]\n",
    "           \n",
    "        bookValue = np.append(bookValue, bs[\"shareholderEquity\"]  / (bs[\"commonStock\"] - treasuryStock))\n",
    "    return bookValue\n"
   ]
  },
  {
   "cell_type": "code",
   "execution_count": 18,
   "metadata": {},
   "outputs": [],
   "source": [
    "#COMPOUND ANNUAL GROWTH RATES (CAGR)\n",
    "def CAGR(item):\n",
    "    periods = len(item)\n",
    "    if periods > 1 :\n",
    "        first = item[-1]\n",
    "        last = item[0] \n",
    "        cage = ((last/first)**(1/periods))-1\n",
    "        return cage\n",
    "    else:\n",
    "        return 0"
   ]
  },
  {
   "cell_type": "code",
   "execution_count": null,
   "metadata": {},
   "outputs": [],
   "source": []
  },
  {
   "cell_type": "code",
   "execution_count": 24,
   "metadata": {},
   "outputs": [],
   "source": [
    "def BookValueGrowth_DividendValuation(ticker):    \n",
    "    # Sharesoutstanding\n",
    "    shares_outstanding = sharesOutstanding(ticker)\n",
    "    \n",
    "    #Book Value\n",
    "    bookValue = bookValues(ticker) \n",
    "\n",
    "    # Current Year Book Value \n",
    "    currentYearBookValue = 0\n",
    "    if len(bookValue) >0:\n",
    "        currentYearBookValue = bookValue[0]\n",
    "    \n",
    "    # Book value growth rate\n",
    "    bookValueGrowthRate = CAGR(bookValue)\n",
    "\n",
    "    # Future Book Value\n",
    "    futureBookValue = futureValue(currentYearBookValue, len(bookValue), bookValueGrowthRate)\n",
    "    \n",
    "    # Annual Dividend\n",
    "    annualDividend = avgDividends(ticker)\n",
    "    \n",
    "    # Dicount Rate 10y fed note \n",
    "    dicountRate10YearFedNote = 0.68\n",
    "    \n",
    "    #B14*((1-(1/(1+B15)^10))/B15)+(B21/(1+B15)^10))\n",
    "    return annualDividend*((1-(1/(1+ dicountRate10YearFedNote)**10))/dicountRate10YearFedNote)+(futureBookValue/(1+dicountRate10YearFedNote)**10)\n",
    " "
   ]
  },
  {
   "cell_type": "code",
   "execution_count": 34,
   "metadata": {
    "code_folding": []
   },
   "outputs": [
    {
     "name": "stdout",
     "output_type": "stream",
     "text": [
      "[]\n"
     ]
    },
    {
     "data": {
      "text/html": [
       "<div>\n",
       "<style scoped>\n",
       "    .dataframe tbody tr th:only-of-type {\n",
       "        vertical-align: middle;\n",
       "    }\n",
       "\n",
       "    .dataframe tbody tr th {\n",
       "        vertical-align: top;\n",
       "    }\n",
       "\n",
       "    .dataframe thead th {\n",
       "        text-align: right;\n",
       "    }\n",
       "</style>\n",
       "<table border=\"1\" class=\"dataframe\">\n",
       "  <thead>\n",
       "    <tr style=\"text-align: right;\">\n",
       "      <th></th>\n",
       "      <th>Book Value Dividend</th>\n",
       "    </tr>\n",
       "  </thead>\n",
       "  <tbody>\n",
       "    <tr>\n",
       "      <th>0</th>\n",
       "      <td>0.026222</td>\n",
       "    </tr>\n",
       "  </tbody>\n",
       "</table>\n",
       "</div>"
      ],
      "text/plain": [
       "   Book Value Dividend\n",
       "0             0.026222"
      ]
     },
     "execution_count": 34,
     "metadata": {},
     "output_type": "execute_result"
    }
   ],
   "source": [
    "tickers = ['HTZ']\n",
    "dataSet = [] \n",
    "for ticker in tickers:\n",
    "    data = {}  \n",
    "    data[\"Book Value Dividend\"] = BookValueGrowth_DividendValuation(ticker)\n",
    "    dataSet.append(data.copy())\n",
    "pd.DataFrame(dataSet) "
   ]
  },
  {
   "cell_type": "code",
   "execution_count": 8,
   "metadata": {},
   "outputs": [],
   "source": [
    "IntrinsicValue('AAPL')"
   ]
  },
  {
   "cell_type": "code",
   "execution_count": 9,
   "metadata": {},
   "outputs": [],
   "source": [
    "dict = {'name':[\"aparna\", \"pankaj\", \"sudhir\", \"Geeku\"], \n",
    "        'degree': [\"MBA\", \"BCA\", \"M.Tech\", \"MBA\"], \n",
    "        'score':[90, 40, 80, 98]} "
   ]
  },
  {
   "cell_type": "code",
   "execution_count": 10,
   "metadata": {},
   "outputs": [
    {
     "data": {
      "text/html": [
       "<div>\n",
       "<style scoped>\n",
       "    .dataframe tbody tr th:only-of-type {\n",
       "        vertical-align: middle;\n",
       "    }\n",
       "\n",
       "    .dataframe tbody tr th {\n",
       "        vertical-align: top;\n",
       "    }\n",
       "\n",
       "    .dataframe thead th {\n",
       "        text-align: right;\n",
       "    }\n",
       "</style>\n",
       "<table border=\"1\" class=\"dataframe\">\n",
       "  <thead>\n",
       "    <tr style=\"text-align: right;\">\n",
       "      <th></th>\n",
       "      <th>name</th>\n",
       "      <th>degree</th>\n",
       "      <th>score</th>\n",
       "    </tr>\n",
       "  </thead>\n",
       "  <tbody>\n",
       "    <tr>\n",
       "      <th>0</th>\n",
       "      <td>aparna</td>\n",
       "      <td>MBA</td>\n",
       "      <td>90</td>\n",
       "    </tr>\n",
       "    <tr>\n",
       "      <th>1</th>\n",
       "      <td>pankaj</td>\n",
       "      <td>BCA</td>\n",
       "      <td>40</td>\n",
       "    </tr>\n",
       "    <tr>\n",
       "      <th>2</th>\n",
       "      <td>sudhir</td>\n",
       "      <td>M.Tech</td>\n",
       "      <td>80</td>\n",
       "    </tr>\n",
       "    <tr>\n",
       "      <th>3</th>\n",
       "      <td>Geeku</td>\n",
       "      <td>MBA</td>\n",
       "      <td>98</td>\n",
       "    </tr>\n",
       "  </tbody>\n",
       "</table>\n",
       "</div>"
      ],
      "text/plain": [
       "     name  degree  score\n",
       "0  aparna     MBA     90\n",
       "1  pankaj     BCA     40\n",
       "2  sudhir  M.Tech     80\n",
       "3   Geeku     MBA     98"
      ]
     },
     "execution_count": 10,
     "metadata": {},
     "output_type": "execute_result"
    }
   ],
   "source": [
    "pd.DataFrame(dict) "
   ]
  },
  {
   "cell_type": "code",
   "execution_count": null,
   "metadata": {},
   "outputs": [],
   "source": []
  }
 ],
 "metadata": {
  "kernelspec": {
   "display_name": "Python 3",
   "language": "python",
   "name": "python3"
  },
  "language_info": {
   "codemirror_mode": {
    "name": "ipython",
    "version": 3
   },
   "file_extension": ".py",
   "mimetype": "text/x-python",
   "name": "python",
   "nbconvert_exporter": "python",
   "pygments_lexer": "ipython3",
   "version": "3.7.3"
  }
 },
 "nbformat": 4,
 "nbformat_minor": 4
}
