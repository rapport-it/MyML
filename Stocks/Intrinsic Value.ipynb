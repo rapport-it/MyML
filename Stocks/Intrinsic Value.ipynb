{
 "cells": [
  {
   "cell_type": "code",
   "execution_count": 65,
   "metadata": {},
   "outputs": [],
   "source": [
    "import pandas as pd\n",
    "import numpy as np\n",
    "import statistics\n",
    "import requests\n",
    "import json\n",
    "import sys"
   ]
  },
  {
   "cell_type": "markdown",
   "metadata": {},
   "source": [
    "## Common Methods "
   ]
  },
  {
   "cell_type": "markdown",
   "metadata": {},
   "source": [
    "### API Call"
   ]
  },
  {
   "cell_type": "code",
   "execution_count": 107,
   "metadata": {},
   "outputs": [],
   "source": [
    "def callApi(method, stock, isSeriese = False):\n",
    "    key = \"token=\" + \"pk_ee5af08dfb9a419aaba2cbee77b80165\"\n",
    "    host = \"https://cloud.iexapis.com/stable/\"\n",
    "    ticker = \"stock/\"+ stock\n",
    "    api_method =\"/\" + method \n",
    "    query = \"?\"\n",
    "    add = \"&\"\n",
    "    last5 = \"/5y\"\n",
    "    last10 = \"/10\"\n",
    "    period = \"period=annual\"\n",
    "    if method == \"dividends\":\n",
    "        url = host + ticker + api_method + last5 + query + key\n",
    "    elif (method == \"financials\" or method == \"balance-sheet\" or method == \"earnings\" or method == \"cash-flow\") and isSeriese :\n",
    "        url = host + ticker + api_method + last10 + query + period + add + key\n",
    "    else:\n",
    "        url = host + ticker + api_method + query + key \n",
    "    try:\n",
    "        response = requests.request(\"GET\", url)\n",
    "        balance_sheet = json.loads(response.text)\n",
    "        return balance_sheet\n",
    "    except ValueError:\n",
    "        print(\"Unknown expeption on\" + stock)\n",
    "        return {}"
   ]
  },
  {
   "cell_type": "markdown",
   "metadata": {},
   "source": [
    "### COMPOUND ANNUAL GROWTH RATES (CAGR)"
   ]
  },
  {
   "cell_type": "markdown",
   "metadata": {},
   "source": [
    "#### CAGR=(( EV / BV) ^ 1/n ) -1\n",
    "\n",
    "##### where:\n",
    "##### EV=Ending value\n",
    "##### BV=Beginning value\n",
    "##### n=Number of years"
   ]
  },
  {
   "cell_type": "code",
   "execution_count": 67,
   "metadata": {},
   "outputs": [],
   "source": [
    "\n",
    "def CAGR(item):\n",
    "    periods = len(item)\n",
    "    if periods > 1 :\n",
    "        first = item[-1]\n",
    "        last = item[0] \n",
    "        cage = ((last/first)**(1/periods))-1\n",
    "        return cage\n",
    "    else:\n",
    "        return 0"
   ]
  },
  {
   "cell_type": "markdown",
   "metadata": {},
   "source": [
    "#### Future Value\n",
    "\n",
    "##### FV = PV* (1 + r) ^ n\n",
    "##### PV The present value\n",
    "##### r The interest rate \n",
    "##### n number of periods "
   ]
  },
  {
   "cell_type": "code",
   "execution_count": 68,
   "metadata": {},
   "outputs": [],
   "source": [
    "def futureValue(bookValue, period, rate ):\n",
    "    return bookValue * ((1 + rate) ** period )"
   ]
  },
  {
   "cell_type": "code",
   "execution_count": 69,
   "metadata": {},
   "outputs": [],
   "source": [
    "def sharesOutstanding(stats):\n",
    "    if not(\"sharesOutstanding\" in stats.keys()):\n",
    "        return 0.0\n",
    "    if stats[\"sharesOutstanding\"] is not None:\n",
    "        return float(stats[\"sharesOutstanding\"])\n",
    "    else:\n",
    "        return 0.0"
   ]
  },
  {
   "cell_type": "code",
   "execution_count": 86,
   "metadata": {},
   "outputs": [],
   "source": [
    "def EPS(earnings, earning):\n",
    "    #earnings[\"earnings\"].insert(0,earning[\"earnings\"][0])\n",
    "    if not(\"earnings\" in earnings.keys()) or len(earnings[\"earnings\"]) == 0:\n",
    "        return 0.0\n",
    "    earningsSet = earnings[\"earnings\"]\n",
    "    eps = np.array([])\n",
    "    for earning in earningsSet: \n",
    "        actualEPS = float(earning[\"actualEPS\"])\n",
    "        if actualEPS <= 0:\n",
    "            eps = np.append(eps, 0.1) \n",
    "        else: \n",
    "            eps = np.append(eps, actualEPS)\n",
    "    return eps"
   ]
  },
  {
   "cell_type": "code",
   "execution_count": 71,
   "metadata": {},
   "outputs": [],
   "source": [
    "def shareholdersEquity(financials):\n",
    "    if not(\"financials\" in financials.keys()) or len(financials[\"financials\"]) == 0:\n",
    "        return 0.0\n",
    "    financial = financials[\"financials\"][0]\n",
    "    if not(\"shareholderEquity\" in financial.keys()):\n",
    "        return 0.0\n",
    "    return financial[\"shareholderEquity\"]"
   ]
  },
  {
   "cell_type": "markdown",
   "metadata": {},
   "source": [
    "# Book value growth and dividend valuation"
   ]
  },
  {
   "cell_type": "code",
   "execution_count": 72,
   "metadata": {},
   "outputs": [],
   "source": [
    "def avgDividends(dividend):\n",
    "    avgDividend = np.array([])\n",
    "    for dividend in dividends:\n",
    "        if \"amount\" in dividend.keys() and dividend[\"amount\"] != '': \n",
    "            if dividend[\"amount\"] is not None:\n",
    "                avgDividend = np.append(avgDividend, float(dividend[\"amount\"]))\n",
    "    if len(avgDividend) > 0: \n",
    "        return statistics.mean(avgDividend) \n",
    "    else:  \n",
    "        return 0 "
   ]
  },
  {
   "cell_type": "code",
   "execution_count": 73,
   "metadata": {},
   "outputs": [],
   "source": [
    "def bookValues(balancesheets, balancesheet):\n",
    "    balancesheets[\"balancesheet\"].insert(0, balancesheet[\"balancesheet\"][0])\n",
    "    if not(\"balancesheet\" in balancesheets.keys()) or len(balancesheets[\"balancesheet\"]) == 0:\n",
    "        return []\n",
    "    balancesheetsData = balancesheets[\"balancesheet\"]\n",
    "    bookValue = np.array([])\n",
    "    for bs in balancesheetsData:\n",
    "        treasuryStock = 0.0\n",
    "        if bs[\"treasuryStock\"] is not None:\n",
    "            treasuryStock = bs[\"treasuryStock\"]\n",
    "           \n",
    "        bookValue = np.append(bookValue, bs[\"shareholderEquity\"]  / (bs[\"commonStock\"] - treasuryStock))\n",
    "    return bookValue\n"
   ]
  },
  {
   "cell_type": "code",
   "execution_count": 74,
   "metadata": {},
   "outputs": [],
   "source": [
    "def BookValueGrowth_DividendValuation(balancesheets, lastBalancesheet, stats, dividends): \n",
    "    np.seterr(all='print')\n",
    "    # Sharesoutstanding\n",
    "    shares_outstanding = sharesOutstanding(stats)\n",
    "    \n",
    "    #Book Value\n",
    "    bookValue = bookValues(balancesheets, lastBalancesheet) \n",
    "    \n",
    "    # Current Year Book Value \n",
    "    currentYearBookValue = 0\n",
    "    period = len(bookValue)\n",
    "    if period >0:\n",
    "        currentYearBookValue = bookValue[0]\n",
    "    \n",
    "    # Book value growth rate\n",
    "    bookValueGrowthRate = CAGR(bookValue)\n",
    "    adjustedbookValueGrowthRate = .1\n",
    "    if bookValueGrowthRate > .05:\n",
    "        adjustedbookValueGrowthRate =  bookValueGrowthRate\n",
    "    \n",
    "    # Future Book Value\n",
    "    futureBookValue = futureValue(currentYearBookValue, len(bookValue), adjustedbookValueGrowthRate)\n",
    "    \n",
    "    # Annual Dividend\n",
    "    annualDividend = avgDividends(dividends)\n",
    "\n",
    "    \n",
    "    # Dicount Rate 10y fed note \n",
    "    dicountRate10YearFedNote = .0068\n",
    "\n",
    "    return annualDividend*((1-(1/(1+ dicountRate10YearFedNote)**period))/dicountRate10YearFedNote)+(futureBookValue/(1+dicountRate10YearFedNote)**period)\n",
    " "
   ]
  },
  {
   "cell_type": "markdown",
   "metadata": {},
   "source": [
    "# Benjamin Grahams Intrinsic Value Calculation "
   ]
  },
  {
   "cell_type": "markdown",
   "metadata": {},
   "source": [
    "#### ROE = Net Income / Shareholder Equity"
   ]
  },
  {
   "cell_type": "code",
   "execution_count": 75,
   "metadata": {},
   "outputs": [],
   "source": [
    "def returnOnEquitySerice(financials):\n",
    "    #\n",
    "    if not(\"financials\" in financials.keys()) or len(financials[\"financials\"]) == 0:\n",
    "        return []\n",
    "    financialsData = financials[\"financials\"]\n",
    "    returnOnEquity = np.array([])\n",
    "    for financial in financialsData:\n",
    "        if \"shareholderEquity\" in financial.keys() and \"netIncome\" in financial.keys() : \n",
    "            returnOnEquity = np.append(returnOnEquity, financial[\"netIncome\"]/financial[\"shareholderEquity\"])\n",
    "    return returnOnEquity"
   ]
  },
  {
   "cell_type": "markdown",
   "metadata": {},
   "source": [
    "#### Net profit margin = Net income / Revenue"
   ]
  },
  {
   "cell_type": "code",
   "execution_count": 76,
   "metadata": {},
   "outputs": [],
   "source": [
    "\n",
    "def netProfitMarginSerice(financials):\n",
    "    #Net profit margin = (Net income/ Revenue)\n",
    "    if not(\"financials\" in financials.keys()) or len(financials[\"financials\"]) == 0:\n",
    "        return []\n",
    "    financialsData = financials[\"financials\"]\n",
    "    netProfitMargin = np.array([])\n",
    "    for financial in financialsData:\n",
    "        if \"totalRevenue\" in financial.keys() and \"netIncome\" in financial.keys() : \n",
    "            netIncome = financial[\"netIncome\"]\n",
    "            totalRevenue = financial[\"totalRevenue\"]\n",
    "            if netIncome is not None and totalRevenue is not None:\n",
    "                netProfitMargin = np.append(netProfitMargin, float(netIncome)/float(totalRevenue))\n",
    "    return netProfitMargin"
   ]
  },
  {
   "cell_type": "code",
   "execution_count": null,
   "metadata": {},
   "outputs": [],
   "source": []
  },
  {
   "cell_type": "code",
   "execution_count": null,
   "metadata": {},
   "outputs": [],
   "source": []
  },
  {
   "cell_type": "code",
   "execution_count": 77,
   "metadata": {},
   "outputs": [],
   "source": [
    "def totalRevenue(financials):\n",
    "    if not(\"financials\" in financials.keys()) or len(financials[\"financials\"]) == 0:\n",
    "        return 0.0\n",
    "    financial = financials[\"financials\"][0]\n",
    "    if not(\"totalRevenue\" in financial.keys()):\n",
    "        return 0.0\n",
    "    return financial[\"totalRevenue\"]"
   ]
  },
  {
   "cell_type": "markdown",
   "metadata": {},
   "source": [
    "### Intrinsic value = [EPS × (7 + 1.125 *g) × 4.4]/Y \n",
    "\n",
    "#### P/E base for a no-growth company – 7 (Indian version mostly 7)\n",
    "#### g –Average growth rate is the estimated over years available\n",
    "#### Y - Current yield on AAA-rated corporate bonds.\n",
    "#### Prevailing (1962) rate on high-grade corporate bonds listed on the New York Stock Exchange -4.4\n",
    "#### Growth aggressive value  - 1 ( aggressive can be 2)"
   ]
  },
  {
   "cell_type": "code",
   "execution_count": 78,
   "metadata": {},
   "outputs": [],
   "source": [
    "def BenjaminGrahamsIntrinsicValue(financials,financial, earnings, earning, stats, price):\n",
    "    financials[\"financials\"].insert(0, financial[\"financials\"][0])\n",
    "\n",
    "    #ROE = Net Income / Shareholder Equity\n",
    "    roe = returnOnEquitySerice(financials)\n",
    "    if len(roe) > 0:  \n",
    "        medianROE = statistics.median(roe)\n",
    "    else:\n",
    "        return \"NA\"\n",
    "    \n",
    "    #Net profit margin = (Net income/ Revenu)\n",
    "    netProfitMargin = netProfitMarginSerice(financials)\n",
    "    if len(netProfitMargin) > 0:\n",
    "        meanNetProfit  = statistics.mean(netProfitMargin)\n",
    "    else: \n",
    "        return \"NA\"\n",
    "    \n",
    "    # EPS\n",
    "    eps = EPS (earnings, earning)\n",
    "    # CAGR on EPS\n",
    "    epsCAGR = CAGR(eps)\n",
    "   \n",
    "    # Shareholders equity\n",
    "    shareholders_equity = shareholdersEquity(financial)\n",
    "    \n",
    "    # Sharesoutstanding\n",
    "    shares_outstanding = sharesOutstanding(stats)\n",
    "    \n",
    "    # Total Revenue\n",
    "    total_revenue = totalRevenue(financial)\n",
    "    \n",
    "    # 20 AA Corporate bond Rate %\n",
    "    #https://ycharts.com/indicators/us_corporate_aa_effective_yield\n",
    "    Bond_Yeild_AAA = 1.51\n",
    "    \n",
    "    # Current Stock Price\n",
    "    current_stock_price = price\n",
    "    \n",
    "    # Required margin of safety\n",
    "    margin_of_safety = 30\n",
    "    \n",
    "    #************************************#\n",
    "    # Normalized EPS Using The ROE Method\n",
    "    \n",
    "    #Normalized Net Income\n",
    "    net_income_roe = medianROE * shareholders_equity\n",
    "    # EPS = net income / share \n",
    "    eps_roe = net_income_roe / shares_outstanding\n",
    "    \n",
    "    #****************************************#\n",
    "    #Normalized EPS Using The Net Margin Method\n",
    "    net_income_on_net_margin = meanNetProfit * total_revenue\n",
    "    eps_net_income_on_net_margin = net_income_on_net_margin / shares_outstanding\n",
    "    \n",
    "    #****************************************#\n",
    "    #Average EPS \n",
    "    average_EPS = statistics.mean([eps_roe, eps_net_income_on_net_margin] )\n",
    "    #Estimated Future EPS Growth Rate\n",
    "    future_EPS_growth_rate = epsCAGR\n",
    "    \n",
    "    \n",
    "    ########################################\n",
    "    #Intrinsic value = [EPS × (7 + 1 *g ) × 4.4]/Y \n",
    "    intrinsicValue = (average_EPS * (7 + 1 * future_EPS_growth_rate) *4.4) / Bond_Yeild_AAA\n",
    "    if intrinsicValue <= 0:\n",
    "        return \"NA\"\n",
    "    else: \n",
    "        return intrinsicValue"
   ]
  },
  {
   "cell_type": "markdown",
   "metadata": {},
   "source": [
    "# Guru Focus Intrinsic Value"
   ]
  },
  {
   "cell_type": "markdown",
   "metadata": {},
   "source": [
    "### Free Cash Flow \t=\tCash Flow from Operations\t+\tCapital Expenditure"
   ]
  },
  {
   "cell_type": "code",
   "execution_count": 116,
   "metadata": {},
   "outputs": [],
   "source": [
    "def freeCashFlowSerice(cashflow):\n",
    "    if not(\"cashflow\" in cashflow.keys()) or len(cashflow[\"cashflow\"]) == 0:\n",
    "        return []\n",
    "    cashflowData = cashflow[\"cashflow\"]\n",
    "    cashFlows = np.array([])\n",
    "    for cf in cashflowData:\n",
    "        if \"cashFlow\" in cf.keys() and \"capitalExpenditures\" in cf.keys(): \n",
    "            cashFlowValue = cf[\"cashFlow\"]\n",
    "            capitalExpenditures = cf[\"capitalExpenditures\"]\n",
    "            if cashFlowValue is not None and capitalExpenditures is not None:\n",
    "                cashFlows = np.append(cashFlows, cashFlowValue + capitalExpenditures)\n",
    "    return cashFlows"
   ]
  },
  {
   "cell_type": "markdown",
   "metadata": {},
   "source": [
    "##### Intrinsic Value=(Growth Multipler * Free Cash Flow (6 year avg) + Total Stockholders Equity (Jun20)*0.8) / Shares Outstanding (Diluted Average)"
   ]
  },
  {
   "cell_type": "code",
   "execution_count": 117,
   "metadata": {},
   "outputs": [],
   "source": [
    "def GuruFocusIntrinsicValue(financials,cashflow, earnings, earning, stats):\n",
    "    #Intrinsic Value=(Growth Multipler * Free Cash Flow (6 year avg)+Total Stockholders Equity (Jun20)*0.8)/Shares Outstanding (Diluted Average)\n",
    "    \n",
    "    # EPS Serice \n",
    "    eps = EPS (earnings, earning)\n",
    "    \n",
    "    # EPS COMPOUND ANNUAL GROWTH RATES (CAGR)\n",
    "    epsCAGR = CAGR(eps)\n",
    "    print(epsCAGR)\n",
    "\n",
    "    #Free Cash Flow \n",
    "    free_cash_flow = freeCashFlowSerice(cashflow)\n",
    "    mean_free_cash_flow = statistics.mean(free_cash_flow)\n",
    "    print(mean_free_cash_flow)\n",
    "    \n",
    "    # Total Stockholders Equity\n",
    "    stockholders_equity = shareholdersEquity(financials)\n",
    "    print(stockholders_equity)\n",
    "    \n",
    "    # Sharesoutstanding\n",
    "    shares_outstanding = sharesOutstanding(stats)\n",
    "    print(shares_outstanding)\n",
    "    \n",
    "    return (epsCAGR*100* mean_free_cash_flow + stockholders_equity *0.8)/shares_outstanding"
   ]
  },
  {
   "cell_type": "code",
   "execution_count": 118,
   "metadata": {
    "code_folding": []
   },
   "outputs": [
    {
     "name": "stdout",
     "output_type": "stream",
     "text": [
      "0.08268329543999053\n",
      "3078400000.0\n",
      "8690000000\n",
      "637857000.0\n"
     ]
    },
    {
     "data": {
      "text/html": [
       "<div>\n",
       "<style scoped>\n",
       "    .dataframe tbody tr th:only-of-type {\n",
       "        vertical-align: middle;\n",
       "    }\n",
       "\n",
       "    .dataframe tbody tr th {\n",
       "        vertical-align: top;\n",
       "    }\n",
       "\n",
       "    .dataframe thead th {\n",
       "        text-align: right;\n",
       "    }\n",
       "</style>\n",
       "<table border=\"1\" class=\"dataframe\">\n",
       "  <thead>\n",
       "    <tr style=\"text-align: right;\">\n",
       "      <th></th>\n",
       "      <th>Ticker</th>\n",
       "      <th>price</th>\n",
       "      <th>Book Value Dividend</th>\n",
       "      <th>Benjamin Grahams</th>\n",
       "      <th>Guru Focus</th>\n",
       "    </tr>\n",
       "  </thead>\n",
       "  <tbody>\n",
       "    <tr>\n",
       "      <th>0</th>\n",
       "      <td>DAL</td>\n",
       "      <td>31.7</td>\n",
       "      <td>({'IV': 40.17}, {'MS %': 21.1}, {'AR %': 12.6})</td>\n",
       "      <td>({'IV': 28.59}, {'MS %': -10.9}, {'AR %': -5.0})</td>\n",
       "      <td>({'IV': 50.8}, {'MS %': 37.6}, {'AR %': 26.6})</td>\n",
       "    </tr>\n",
       "  </tbody>\n",
       "</table>\n",
       "</div>"
      ],
      "text/plain": [
       "  Ticker  price                              Book Value Dividend  \\\n",
       "0    DAL   31.7  ({'IV': 40.17}, {'MS %': 21.1}, {'AR %': 12.6})   \n",
       "\n",
       "                                   Benjamin Grahams  \\\n",
       "0  ({'IV': 28.59}, {'MS %': -10.9}, {'AR %': -5.0})   \n",
       "\n",
       "                                       Guru Focus  \n",
       "0  ({'IV': 50.8}, {'MS %': 37.6}, {'AR %': 26.6})  "
      ]
     },
     "execution_count": 118,
     "metadata": {},
     "output_type": "execute_result"
    }
   ],
   "source": [
    "tickers = ['DAL']\n",
    "dataSet = [] \n",
    "for ticker in tickers:\n",
    "    data = {} \n",
    "    \n",
    "    # API calls\n",
    "    balancesheets = callApi(\"balance-sheet\", ticker, True)\n",
    "    balancesheet = callApi(\"balance-sheet\", ticker)\n",
    "    stats = callApi(\"stats\", ticker)\n",
    "    dividends = callApi(\"dividends\", ticker)\n",
    "    price = callApi(\"price\", ticker)\n",
    "    financials = callApi(\"financials\", ticker, True)\n",
    "    financial = callApi(\"financials\", ticker)\n",
    "    earnings = callApi(\"earnings\", ticker, True)\n",
    "    earning = callApi(\"earnings\", ticker)\n",
    "    cashflow = callApi(\"cash-flow\", ticker, True)\n",
    "    \n",
    "    # Common data\n",
    "    data[\"Ticker\"] = ticker\n",
    "    data[\"price\"] = price\n",
    "    \n",
    "    # Book value growth and dividend valuation\n",
    "    intrinsicValue =  BookValueGrowth_DividendValuation(balancesheets, balancesheet, stats, dividends)\n",
    "    marginOfsafety = 1 - (float(price)/ intrinsicValue)\n",
    "    annualReturn = CAGR([intrinsicValue, float(price)])\n",
    "    data[\"Book Value Dividend\"] =  {\"IV\": round(intrinsicValue, 2)},{\"MS %\": round(marginOfsafety *100,1) },{\"AR %\": round(annualReturn *100, 1)}\n",
    "    \n",
    "    \n",
    "    # Benjamin Grahams Intrinsic Value\n",
    "    intrinsicValue =  BenjaminGrahamsIntrinsicValue(financials,financial, earnings, earning, stats, price)\n",
    "    marginOfsafety = 1 - (float(price)/ intrinsicValue)\n",
    "    annualReturn = CAGR([intrinsicValue, float(price)])\n",
    "    data[\"Benjamin Grahams\"] =  {\"IV\": round(intrinsicValue, 2)},{\"MS %\": round(marginOfsafety *100,1) },{\"AR %\": round(annualReturn *100, 1)}\n",
    "    \n",
    "    # Guru Focus Intrinsic Value\n",
    "    intrinsicValue =  GuruFocusIntrinsicValue(financials,cashflow, earnings, earning, stats)\n",
    "    marginOfsafety = 1 - (float(price)/ intrinsicValue)\n",
    "    annualReturn = CAGR([intrinsicValue, float(price)])\n",
    "    data[\"Guru Focus\"] =  {\"IV\": round(intrinsicValue, 2)},{\"MS %\": round(marginOfsafety *100,1) },{\"AR %\": round(annualReturn *100, 1)}\n",
    "    \n",
    "    dataSet.append(data.copy())\n",
    "pd.DataFrame(dataSet) "
   ]
  },
  {
   "cell_type": "code",
   "execution_count": 8,
   "metadata": {},
   "outputs": [],
   "source": [
    "IntrinsicValue('AAPL')"
   ]
  },
  {
   "cell_type": "code",
   "execution_count": null,
   "metadata": {},
   "outputs": [],
   "source": []
  }
 ],
 "metadata": {
  "kernelspec": {
   "display_name": "Python 3",
   "language": "python",
   "name": "python3"
  },
  "language_info": {
   "codemirror_mode": {
    "name": "ipython",
    "version": 3
   },
   "file_extension": ".py",
   "mimetype": "text/x-python",
   "name": "python",
   "nbconvert_exporter": "python",
   "pygments_lexer": "ipython3",
   "version": "3.7.3"
  }
 },
 "nbformat": 4,
 "nbformat_minor": 4
}
