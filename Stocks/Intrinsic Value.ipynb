{
 "cells": [
  {
   "cell_type": "code",
   "execution_count": 1,
   "metadata": {},
   "outputs": [],
   "source": [
    "import pandas as pd\n",
    "import numpy as np\n",
    "import statistics\n",
    "import requests\n",
    "import json\n",
    "import sys"
   ]
  },
  {
   "cell_type": "markdown",
   "metadata": {},
   "source": [
    "## Common Methods "
   ]
  },
  {
   "cell_type": "markdown",
   "metadata": {},
   "source": [
    "### API Call"
   ]
  },
  {
   "cell_type": "code",
   "execution_count": 2,
   "metadata": {},
   "outputs": [],
   "source": [
    "def callApi(method, stock, isSeriese = False):\n",
    "    key = \"token=\" + \"pk_ee5af08dfb9a419aaba2cbee77b80165\"\n",
    "    host = \"https://cloud.iexapis.com/stable/\"\n",
    "    ticker = \"stock/\"+ stock\n",
    "    api_method =\"/\" + method \n",
    "    query = \"?\"\n",
    "    add = \"&\"\n",
    "    last5 = \"/5y\"\n",
    "    last10 = \"/10\"\n",
    "    periodA = \"period=annual\"\n",
    "    period = \"period=annual\"\n",
    "    if method == \"dividends\":\n",
    "        url = host + ticker + api_method + last5 + query + key\n",
    "    elif (method == \"financials\" or method == \"balance-sheet\" or method == \"earnings\" or method == \"cash-flow\") and isSeriese :\n",
    "        url = host + ticker + api_method + last10 + query + periodA + add + key\n",
    "    else:\n",
    "        url = host + ticker + api_method + query + key \n",
    "    try:\n",
    "        response = requests.request(\"GET\", url)\n",
    "        balance_sheet = json.loads(response.text)\n",
    "        return balance_sheet\n",
    "    except ValueError:\n",
    "        print(\"Unknown expeption on\" + stock)\n",
    "        return {}"
   ]
  },
  {
   "cell_type": "markdown",
   "metadata": {},
   "source": [
    "### COMPOUND ANNUAL GROWTH RATES (CAGR)"
   ]
  },
  {
   "cell_type": "markdown",
   "metadata": {},
   "source": [
    "#### CAGR=(( EV / BV) ^ 1/n ) -1\n",
    "\n",
    "##### where:\n",
    "##### EV=Ending value\n",
    "##### BV=Beginning value\n",
    "##### n=Number of years"
   ]
  },
  {
   "cell_type": "code",
   "execution_count": 3,
   "metadata": {},
   "outputs": [],
   "source": [
    "\n",
    "def CAGR(item):\n",
    "    periods = len(item)\n",
    "    if periods > 1 :\n",
    "        first = item[-1]\n",
    "        last = item[0] \n",
    "        cage = ((last/first)**(1/periods))-1\n",
    "        return cage\n",
    "    else:\n",
    "        return 0"
   ]
  },
  {
   "cell_type": "markdown",
   "metadata": {},
   "source": [
    "#### Future Value\n",
    "\n",
    "##### FV = PV* (1 + r) ^ n\n",
    "##### PV The present value\n",
    "##### r The interest rate \n",
    "##### n number of periods "
   ]
  },
  {
   "cell_type": "code",
   "execution_count": 4,
   "metadata": {},
   "outputs": [],
   "source": [
    "def futureValue(bookValue, period, rate ):\n",
    "    return bookValue * ((1 + rate) ** period )"
   ]
  },
  {
   "cell_type": "code",
   "execution_count": 5,
   "metadata": {},
   "outputs": [],
   "source": [
    "def sharesOutstanding(stats):\n",
    "    if not(\"sharesOutstanding\" in stats.keys()):\n",
    "        return 0.0\n",
    "    if stats[\"sharesOutstanding\"] is not None:\n",
    "        return float(stats[\"sharesOutstanding\"])\n",
    "    else:\n",
    "        return 0.0"
   ]
  },
  {
   "cell_type": "code",
   "execution_count": 6,
   "metadata": {},
   "outputs": [],
   "source": [
    "def EPS(earnings, earning):\n",
    "    earnings = addTTMToYearLists(\"earnings\", earnings, earning)\n",
    "\n",
    "    if not(\"earnings\" in earnings.keys()) or len(earnings[\"earnings\"]) == 0:\n",
    "        return 0.0\n",
    "    earningsSet = earnings[\"earnings\"]\n",
    "    eps = np.array([])\n",
    "    for earning in earningsSet: \n",
    "        actualEPS = float(earning[\"actualEPS\"])\n",
    "        if actualEPS <= 0:\n",
    "            eps = np.append(eps, 0.1) \n",
    "        else: \n",
    "            eps = np.append(eps, actualEPS)\n",
    "    return eps"
   ]
  },
  {
   "cell_type": "code",
   "execution_count": 50,
   "metadata": {},
   "outputs": [],
   "source": [
    "def shareholdersEquity(financials, financial):\n",
    "    financials = addTTMToYearLists(\"financials\", financials, financial)\n",
    "    if not(\"financials\" in financials.keys()) or len(financials[\"financials\"]) < 0:\n",
    "        return 0.0\n",
    "    financial = financials[\"financials\"][1]\n",
    "    if not(\"shareholderEquity\" in financial.keys()):\n",
    "        return 0.0\n",
    "    return financial[\"shareholderEquity\"]"
   ]
  },
  {
   "cell_type": "code",
   "execution_count": 8,
   "metadata": {},
   "outputs": [],
   "source": [
    "def addTTMToYearLists(method,lists,ttmList):\n",
    "    reportDate = \"reportDate\"\n",
    "    if method == \"earnings\":\n",
    "        reportDate = \"EPSReportDate\"\n",
    "    if not (method in ttmList.keys()):\n",
    "        return lists\n",
    "    first = lists[method][0]\n",
    "    ttm = ttmList[method][0]\n",
    "    if first[reportDate] != ttm[reportDate]: \n",
    "        lists[method].insert(0, ttmList[method][0])\n",
    "    return lists"
   ]
  },
  {
   "cell_type": "markdown",
   "metadata": {},
   "source": [
    "# Book value growth and dividend valuation"
   ]
  },
  {
   "cell_type": "code",
   "execution_count": 9,
   "metadata": {},
   "outputs": [],
   "source": [
    "def avgDividends(dividend):\n",
    "    avgDividend = np.array([])\n",
    "    for dividend in dividends:\n",
    "        if \"amount\" in dividend.keys() and dividend[\"amount\"] != '': \n",
    "            if dividend[\"amount\"] is not None:\n",
    "                avgDividend = np.append(avgDividend, float(dividend[\"amount\"]))\n",
    "    if len(avgDividend) > 0: \n",
    "        return statistics.mean(avgDividend) \n",
    "    else:  \n",
    "        return 0 "
   ]
  },
  {
   "cell_type": "code",
   "execution_count": 10,
   "metadata": {},
   "outputs": [],
   "source": [
    "def bookValues(balancesheets, balancesheet):\n",
    "    balancesheets = addTTMToYearLists(\"balancesheet\", balancesheets, balancesheet)\n",
    "    if not(\"balancesheet\" in balancesheets.keys()) or len(balancesheets[\"balancesheet\"]) == 0:\n",
    "        return []\n",
    "    balancesheetsData = balancesheets[\"balancesheet\"]\n",
    "    bookValue = np.array([])\n",
    "    for bs in balancesheetsData:\n",
    "        treasuryStock = 0.0\n",
    "        if bs[\"treasuryStock\"] is not None:\n",
    "            treasuryStock = bs[\"treasuryStock\"]\n",
    "           \n",
    "        bookValue = np.append(bookValue, bs[\"shareholderEquity\"]  / (bs[\"commonStock\"] - treasuryStock))\n",
    "    return bookValue\n"
   ]
  },
  {
   "cell_type": "code",
   "execution_count": 11,
   "metadata": {},
   "outputs": [],
   "source": [
    "def BookValueGrowth_DividendValuation(balancesheets, lastBalancesheet, stats, dividends): \n",
    "    np.seterr(all='print')\n",
    "    # Sharesoutstanding\n",
    "    shares_outstanding = sharesOutstanding(stats)\n",
    "    \n",
    "    #Book Value\n",
    "    bookValue = bookValues(balancesheets, lastBalancesheet) \n",
    "    \n",
    "    # Current Year Book Value \n",
    "    currentYearBookValue = 0\n",
    "    period = len(bookValue)\n",
    "    if period >0:\n",
    "        currentYearBookValue = bookValue[0]\n",
    "    \n",
    "    # Book value growth rate\n",
    "    bookValueGrowthRate = CAGR(bookValue)\n",
    "    adjustedbookValueGrowthRate = .1\n",
    "    if bookValueGrowthRate > .05:\n",
    "        adjustedbookValueGrowthRate =  bookValueGrowthRate\n",
    "    \n",
    "    # Future Book Value\n",
    "    futureBookValue = futureValue(currentYearBookValue, len(bookValue), adjustedbookValueGrowthRate)\n",
    "    \n",
    "    # Annual Dividend\n",
    "    annualDividend = avgDividends(dividends)\n",
    "\n",
    "    \n",
    "    # Dicount Rate 10y fed note \n",
    "    dicountRate10YearFedNote = .0068\n",
    "\n",
    "    return annualDividend*((1-(1/(1+ dicountRate10YearFedNote)**period))/dicountRate10YearFedNote)+(futureBookValue/(1+dicountRate10YearFedNote)**period)\n",
    " "
   ]
  },
  {
   "cell_type": "markdown",
   "metadata": {},
   "source": [
    "# Benjamin Grahams Intrinsic Value Calculation "
   ]
  },
  {
   "cell_type": "markdown",
   "metadata": {},
   "source": [
    "#### ROE = Net Income / Shareholder Equity"
   ]
  },
  {
   "cell_type": "code",
   "execution_count": 12,
   "metadata": {},
   "outputs": [],
   "source": [
    "def returnOnEquitySerice(financials, financial):\n",
    "    financials = addTTMToYearLists(\"financials\", financials, financial)\n",
    "    if not(\"financials\" in financials.keys()) or len(financials[\"financials\"]) == 0:\n",
    "        return []\n",
    "    financialsData = financials[\"financials\"]\n",
    "    returnOnEquity = np.array([])\n",
    "    for financial in financialsData:\n",
    "        if \"shareholderEquity\" in financial.keys() and \"netIncome\" in financial.keys() : \n",
    "            returnOnEquity = np.append(returnOnEquity, financial[\"netIncome\"]/financial[\"shareholderEquity\"])\n",
    "    return returnOnEquity"
   ]
  },
  {
   "cell_type": "markdown",
   "metadata": {},
   "source": [
    "#### Net profit margin = Net income / Revenue"
   ]
  },
  {
   "cell_type": "code",
   "execution_count": 13,
   "metadata": {},
   "outputs": [],
   "source": [
    "\n",
    "def netProfitMarginSerice(financials, financial):\n",
    "    financials = addTTMToYearLists(\"financials\", financials, financial)\n",
    "    #Net profit margin = (Net income/ Revenue)\n",
    "    if not(\"financials\" in financials.keys()) or len(financials[\"financials\"]) == 0:\n",
    "        return []\n",
    "    financialsData = financials[\"financials\"]\n",
    "    netProfitMargin = np.array([])\n",
    "    for financial in financialsData:\n",
    "        if \"totalRevenue\" in financial.keys() and \"netIncome\" in financial.keys() : \n",
    "            netIncome = financial[\"netIncome\"]\n",
    "            totalRevenue = financial[\"totalRevenue\"]\n",
    "            if netIncome is not None and totalRevenue is not None:\n",
    "                netProfitMargin = np.append(netProfitMargin, float(netIncome)/float(totalRevenue))\n",
    "    return netProfitMargin"
   ]
  },
  {
   "cell_type": "code",
   "execution_count": null,
   "metadata": {},
   "outputs": [],
   "source": []
  },
  {
   "cell_type": "code",
   "execution_count": null,
   "metadata": {},
   "outputs": [],
   "source": []
  },
  {
   "cell_type": "code",
   "execution_count": 48,
   "metadata": {},
   "outputs": [],
   "source": [
    "def totalRevenue(financials, financial):\n",
    "    #financials = addTTMToYearLists(\"financials\", financials, financial)\n",
    "    #print(financials)\n",
    "    if not(\"financials\" in financials.keys()) or len(financials[\"financials\"]) < 1 :\n",
    "        return 0.0\n",
    "    financial = financials[\"financials\"][1]\n",
    "    if not(\"totalRevenue\" in financial.keys()):\n",
    "        return 0.0\n",
    "    return financial[\"totalRevenue\"]"
   ]
  },
  {
   "cell_type": "markdown",
   "metadata": {},
   "source": [
    "### Intrinsic value = [EPS × (7 + 1.125 *g) × 4.4]/Y \n",
    "\n",
    "#### P/E base for a no-growth company – 7 (Indian version mostly 7)\n",
    "#### g –Average growth rate is the estimated over years available\n",
    "#### Y - Current yield on AAA-rated corporate bonds.\n",
    "#### Prevailing (1962) rate on high-grade corporate bonds listed on the New York Stock Exchange -4.4\n",
    "#### Growth aggressive value  - 1 ( aggressive can be 2)"
   ]
  },
  {
   "cell_type": "code",
   "execution_count": 42,
   "metadata": {},
   "outputs": [],
   "source": [
    "def BenjaminGrahamsIntrinsicValue(financials,financial, earnings, earning, stats, price):\n",
    "\n",
    "    #ROE = Net Income / Shareholder Equity\n",
    "    roe = returnOnEquitySerice(financials, financial)\n",
    "    if len(roe) > 0:  \n",
    "        medianROE = statistics.median(roe)\n",
    "    else:\n",
    "        return 0\n",
    "    \n",
    "    #Net profit margin = (Net income/ Revenu)\n",
    "    netProfitMargin = netProfitMarginSerice(financials, financial)\n",
    "    if len(netProfitMargin) > 0:\n",
    "        meanNetProfit  = statistics.median(netProfitMargin)\n",
    "    else: \n",
    "        return 0\n",
    "    \n",
    "    # EPS\n",
    "    eps = EPS (earnings, earning)\n",
    "    # CAGR on EPS\n",
    "    epsCAGR = CAGR(eps)\n",
    "   \n",
    "    # Shareholders equity\n",
    "    shareholders_equity = shareholdersEquity(financials, financial)\n",
    "    print(shareholders_equity)\n",
    "    # Sharesoutstanding\n",
    "    shares_outstanding = sharesOutstanding(stats)\n",
    "    print(shares_outstanding)\n",
    "    # Total Revenue\n",
    "    total_revenue = totalRevenue(financials, financial)\n",
    "    print(total_revenue)\n",
    "    # 20 AA Corporate bond Rate %\n",
    "    #https://ycharts.com/indicators/us_corporate_aa_effective_yield\n",
    "    Bond_Yeild_AAA = 4.22\n",
    "    \n",
    "    # Current Stock Price\n",
    "    current_stock_price = price\n",
    "    \n",
    "    # Required margin of safety\n",
    "    margin_of_safety = 30\n",
    "    \n",
    "    #************************************#\n",
    "    # Normalized EPS Using The ROE Method\n",
    "    \n",
    "    #Normalized Net Income\n",
    "    net_income_roe = medianROE * shareholders_equity\n",
    "    # EPS = net income / share \n",
    "    eps_roe = net_income_roe / shares_outstanding\n",
    "    \n",
    "    #****************************************#\n",
    "    #Normalized EPS Using The Net Margin Method\n",
    "    net_income_on_net_margin = meanNetProfit * total_revenue\n",
    "    eps_net_income_on_net_margin = net_income_on_net_margin / shares_outstanding\n",
    "    \n",
    "    #****************************************#\n",
    "    #Average EPS \n",
    "    average_EPS = statistics.mean([eps_roe, eps_net_income_on_net_margin] )\n",
    "    #Estimated Future EPS Growth Rate\n",
    "    future_EPS_growth_rate = epsCAGR\n",
    "    \n",
    "    ########################################\n",
    "    #Intrinsic value = [EPS × (7 + 1 *g ) × 4.4]/Y \n",
    "    intrinsicValue = (average_EPS * (7 + 1 * future_EPS_growth_rate) *4.4) / Bond_Yeild_AAA\n",
    "    if intrinsicValue <= 0:\n",
    "        return 0\n",
    "    else: \n",
    "        return intrinsicValue"
   ]
  },
  {
   "cell_type": "markdown",
   "metadata": {},
   "source": [
    "# Guru Focus Intrinsic Value"
   ]
  },
  {
   "cell_type": "markdown",
   "metadata": {},
   "source": [
    "### Free Cash Flow \t=\tCash Flow from Operations\t+\tCapital Expenditure"
   ]
  },
  {
   "cell_type": "code",
   "execution_count": 16,
   "metadata": {},
   "outputs": [],
   "source": [
    "def freeCashFlowSerice(cashflows, cashflow):\n",
    "    cashflows = addTTMToYearLists(\"cashflow\",cashflows,cashflow)\n",
    "    if not(\"cashflow\" in cashflows.keys()) or len(cashflows[\"cashflow\"]) == 0:\n",
    "        return []\n",
    "    cashflowData = cashflows[\"cashflow\"]\n",
    "    cashFlowsSerice = np.array([])\n",
    "    for cf in cashflowData:\n",
    "        if \"cashFlow\" in cf.keys() and \"capitalExpenditures\" in cf.keys(): \n",
    "            cashFlowValue = cf[\"cashFlow\"]\n",
    "            capitalExpenditures = cf[\"capitalExpenditures\"]\n",
    "            if cashFlowValue is None:\n",
    "                cashFlowValue = 0\n",
    "            if capitalExpenditures is None:\n",
    "                capitalExpenditures = 0\n",
    "            cashFlowsSerice = np.append(cashFlowsSerice, cashFlowValue + capitalExpenditures)\n",
    "    return cashFlowsSerice"
   ]
  },
  {
   "cell_type": "markdown",
   "metadata": {},
   "source": [
    "##### Intrinsic Value=(Growth Multipler * Free Cash Flow (6 year avg) + Total Stockholders Equity (Jun20)*0.8) / Shares Outstanding (Diluted Average)"
   ]
  },
  {
   "cell_type": "code",
   "execution_count": 17,
   "metadata": {},
   "outputs": [],
   "source": [
    "def GuruFocusIntrinsicValue(financials, financial, cashflows,cashflow, earnings, earning, stats):\n",
    "    #Intrinsic Value=(Growth Multipler * Free Cash Flow (6 year avg)+Total Stockholders Equity (Jun20)*0.8)/Shares Outstanding (Diluted Average)\n",
    "    \n",
    "    # https://www.gurufocus.com/news/97735\n",
    "    growthMultipler = 9.5203515959648\n",
    "\n",
    "    #Free Cash Flow \n",
    "    free_cash_flow = freeCashFlowSerice(cashflows, cashflow)\n",
    "    mean_free_cash_flow = statistics.mean(free_cash_flow)\n",
    "    \n",
    "    # Total Stockholders Equity\n",
    "    stockholders_equity = shareholdersEquity(financials, financial)\n",
    "    \n",
    "    # Sharesoutstanding\n",
    "    shares_outstanding = sharesOutstanding(stats)\n",
    "    if stockholders_equity > 0:\n",
    "        return (growthMultipler * mean_free_cash_flow + stockholders_equity *0.8)/shares_outstanding\n",
    "    else: \n",
    "        return (growthMultipler * mean_free_cash_flow + stockholders_equity / 0.8)/shares_outstanding"
   ]
  },
  {
   "cell_type": "code",
   "execution_count": 55,
   "metadata": {
    "code_folding": []
   },
   "outputs": [
    {
     "name": "stdout",
     "output_type": "stream",
     "text": [
      "-8617000000\n",
      "564449000.0\n",
      "76559000000\n"
     ]
    },
    {
     "data": {
      "text/html": [
       "<div>\n",
       "<style scoped>\n",
       "    .dataframe tbody tr th:only-of-type {\n",
       "        vertical-align: middle;\n",
       "    }\n",
       "\n",
       "    .dataframe tbody tr th {\n",
       "        vertical-align: top;\n",
       "    }\n",
       "\n",
       "    .dataframe thead th {\n",
       "        text-align: right;\n",
       "    }\n",
       "</style>\n",
       "<table border=\"1\" class=\"dataframe\">\n",
       "  <thead>\n",
       "    <tr style=\"text-align: right;\">\n",
       "      <th></th>\n",
       "      <th>Ticker</th>\n",
       "      <th>price</th>\n",
       "      <th>Book Value Dividend</th>\n",
       "      <th>Benjamin Grahams</th>\n",
       "      <th>Guru Focus</th>\n",
       "    </tr>\n",
       "  </thead>\n",
       "  <tbody>\n",
       "    <tr>\n",
       "      <th>0</th>\n",
       "      <td>BA</td>\n",
       "      <td>160.23</td>\n",
       "      <td>({'IV': 9.5}, {'MS %': -1586.3}, {'AR %': -75.6})</td>\n",
       "      <td>NA</td>\n",
       "      <td>({'IV': 64.6}, {'MS %': -148.0}, {'AR %': -36.5})</td>\n",
       "    </tr>\n",
       "  </tbody>\n",
       "</table>\n",
       "</div>"
      ],
      "text/plain": [
       "  Ticker   price                                Book Value Dividend  \\\n",
       "0     BA  160.23  ({'IV': 9.5}, {'MS %': -1586.3}, {'AR %': -75.6})   \n",
       "\n",
       "  Benjamin Grahams                                         Guru Focus  \n",
       "0               NA  ({'IV': 64.6}, {'MS %': -148.0}, {'AR %': -36.5})  "
      ]
     },
     "execution_count": 55,
     "metadata": {},
     "output_type": "execute_result"
    }
   ],
   "source": [
    "tickers = ['BA']\n",
    "dataSet = [] \n",
    "for ticker in tickers:\n",
    "    data = {} \n",
    "    \n",
    "    # API calls\n",
    "    balancesheets = callApi(\"balance-sheet\", ticker, True)\n",
    "    balancesheet = callApi(\"balance-sheet\", ticker)\n",
    "    stats = callApi(\"stats\", ticker)\n",
    "    dividends = callApi(\"dividends\", ticker)\n",
    "    price = callApi(\"price\", ticker)\n",
    "    financials = callApi(\"financials\", ticker, True)\n",
    "    financial = callApi(\"financials\", ticker)\n",
    "    earnings = callApi(\"earnings\", ticker, True)\n",
    "    earning = callApi(\"earnings\", ticker)\n",
    "    cashflows = callApi(\"cash-flow\", ticker, True)\n",
    "    cashflow = callApi(\"cash-flow\", ticker)\n",
    "    \n",
    "    # Common data\n",
    "    data[\"Ticker\"] = ticker\n",
    "    data[\"price\"] = price\n",
    "    \n",
    "    # Book value growth and dividend valuation\n",
    "\n",
    "    intrinsicValue =  BookValueGrowth_DividendValuation(balancesheets, balancesheet, stats, dividends)\n",
    "    if intrinsicValue is not None and price is not None and intrinsicValue != 0:\n",
    "        marginOfsafety = 1 - (float(price)/ intrinsicValue)\n",
    "        annualReturn = CAGR([intrinsicValue, float(price)])\n",
    "        data[\"Book Value Dividend\"] =  {\"IV\": round(intrinsicValue, 2)},{\"MS %\": round(marginOfsafety *100,1) },{\"AR %\": round(annualReturn *100, 1)}\n",
    "    else:\n",
    "        data[\"Book Value Dividend\"] = \"NA\"\n",
    "    \n",
    "    \n",
    "    # Benjamin Grahams Intrinsic Value\n",
    "    intrinsicValue =  BenjaminGrahamsIntrinsicValue(financials, financial, earnings, earning, stats, price)\n",
    "    if intrinsicValue is not None and price is not None and intrinsicValue != 0:\n",
    "        marginOfsafety = 1 - (float(price)/ intrinsicValue)\n",
    "        annualReturn = CAGR([intrinsicValue, float(price)])\n",
    "        data[\"Benjamin Grahams\"] =  {\"IV\": round(intrinsicValue, 2)},{\"MS %\": round(marginOfsafety *100,1) },{\"AR %\": round(annualReturn *100, 1)}\n",
    "    else:\n",
    "        data[\"Benjamin Grahams\"] = \"NA\"\n",
    "    \n",
    "    # Guru Focus Intrinsic Value\n",
    "    intrinsicValue =  GuruFocusIntrinsicValue(financials, financial, cashflows, cashflow, earnings, earning, stats)\n",
    "    if intrinsicValue is not None and price is not None and intrinsicValue != 0:\n",
    "        marginOfsafety = 1 - (float(price)/ intrinsicValue)\n",
    "        annualReturn = CAGR([intrinsicValue, float(price)])\n",
    "        data[\"Guru Focus\"] =  {\"IV\": round(intrinsicValue, 2)},{\"MS %\": round(marginOfsafety *100,1) },{\"AR %\": round(annualReturn *100, 1)}\n",
    "    else:\n",
    "        data[\"Guru Focus\"] = \"NA\"\n",
    "    dataSet.append(data.copy())\n",
    "pd.DataFrame(dataSet) "
   ]
  },
  {
   "cell_type": "code",
   "execution_count": null,
   "metadata": {},
   "outputs": [],
   "source": []
  }
 ],
 "metadata": {
  "kernelspec": {
   "display_name": "Python 3",
   "language": "python",
   "name": "python3"
  },
  "language_info": {
   "codemirror_mode": {
    "name": "ipython",
    "version": 3
   },
   "file_extension": ".py",
   "mimetype": "text/x-python",
   "name": "python",
   "nbconvert_exporter": "python",
   "pygments_lexer": "ipython3",
   "version": "3.7.3"
  }
 },
 "nbformat": 4,
 "nbformat_minor": 4
}
