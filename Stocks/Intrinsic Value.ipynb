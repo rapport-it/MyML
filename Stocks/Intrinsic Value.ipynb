{
 "cells": [
  {
   "cell_type": "code",
   "execution_count": 20,
   "metadata": {},
   "outputs": [],
   "source": [
    "import pandas as pd\n",
    "import numpy as np\n",
    "import statistics\n",
    "import requests\n",
    "import json\n",
    "import sys"
   ]
  },
  {
   "cell_type": "code",
   "execution_count": 21,
   "metadata": {},
   "outputs": [],
   "source": [
    "def callApi(method, stock, isSeriese = False):\n",
    "    key = \"token=\" + \"pk_ee5af08dfb9a419aaba2cbee77b80165\"\n",
    "    host = \"https://cloud.iexapis.com/stable/\"\n",
    "    ticker = \"stock/\"+ stock\n",
    "    api_method =\"/\" + method \n",
    "    query = \"?\"\n",
    "    add = \"&\"\n",
    "    last5 = \"/5y\"\n",
    "    last10 = \"/10\"\n",
    "    period = \"period=annual\"\n",
    "    if method == \"dividends\":\n",
    "        url = host + ticker + api_method + last5 + query + key\n",
    "    elif (method == \"financials\" or method == \"balance-sheet\") and isSeriese :\n",
    "        url = host + ticker + api_method + last10 + query + period + add + key\n",
    "    else:\n",
    "        url = host + ticker + api_method + query + key \n",
    "    try:\n",
    "        response = requests.request(\"GET\", url)\n",
    "        balance_sheet = json.loads(response.text)\n",
    "        return balance_sheet\n",
    "    except ValueError:\n",
    "        print(\"Unknown expeption on\" + stock)\n",
    "        return {}"
   ]
  },
  {
   "cell_type": "code",
   "execution_count": 22,
   "metadata": {},
   "outputs": [],
   "source": [
    "def avgDividends(dividend):\n",
    "    avgDividend = np.array([])\n",
    "    for dividend in dividends:\n",
    "        if \"amount\" in dividend.keys() and dividend[\"amount\"] != '': \n",
    "            if dividend[\"amount\"] is not None:\n",
    "                avgDividend = np.append(avgDividend, float(dividend[\"amount\"]))\n",
    "    if len(avgDividend) > 0: \n",
    "        return statistics.mean(avgDividend) \n",
    "    else:  \n",
    "        return 0 "
   ]
  },
  {
   "cell_type": "code",
   "execution_count": 23,
   "metadata": {},
   "outputs": [],
   "source": [
    "def sharesOutstanding(stats):\n",
    "    if not(\"sharesOutstanding\" in stats.keys()):\n",
    "        return 0.0\n",
    "    if stats[\"sharesOutstanding\"] is not None:\n",
    "        return float(stats[\"sharesOutstanding\"])\n",
    "    else:\n",
    "        return 0.0"
   ]
  },
  {
   "cell_type": "code",
   "execution_count": 24,
   "metadata": {},
   "outputs": [],
   "source": [
    "def futureValue(bookValue, period, rate ):\n",
    "    return bookValue * ((1 + rate) ** period )"
   ]
  },
  {
   "cell_type": "code",
   "execution_count": 25,
   "metadata": {},
   "outputs": [],
   "source": [
    "def bookValues(balancesheets, balancesheet):\n",
    "    balancesheets[\"balancesheet\"].insert(0, balancesheet[\"balancesheet\"][0])\n",
    "    if not(\"balancesheet\" in balancesheets.keys()) or len(balancesheets[\"balancesheet\"]) == 0:\n",
    "        return []\n",
    "    balancesheetsData = balancesheets[\"balancesheet\"]\n",
    "    bookValue = np.array([])\n",
    "    for bs in balancesheetsData:\n",
    "        treasuryStock = 0.0\n",
    "        if bs[\"treasuryStock\"] is not None:\n",
    "            treasuryStock = bs[\"treasuryStock\"]\n",
    "           \n",
    "        bookValue = np.append(bookValue, bs[\"shareholderEquity\"]  / (bs[\"commonStock\"] - treasuryStock))\n",
    "    return bookValue\n"
   ]
  },
  {
   "cell_type": "code",
   "execution_count": 26,
   "metadata": {},
   "outputs": [],
   "source": [
    "#COMPOUND ANNUAL GROWTH RATES (CAGR)\n",
    "def CAGR(item):\n",
    "    periods = len(item)\n",
    "    if periods > 1 :\n",
    "        first = item[-1]\n",
    "        last = item[0] \n",
    "        cage = ((last/first)**(1/periods))-1\n",
    "        return cage\n",
    "    else:\n",
    "        return 0"
   ]
  },
  {
   "cell_type": "code",
   "execution_count": null,
   "metadata": {},
   "outputs": [],
   "source": []
  },
  {
   "cell_type": "code",
   "execution_count": 27,
   "metadata": {},
   "outputs": [],
   "source": [
    "def BookValueGrowth_DividendValuation(balancesheets, lastBalancesheet, stats, dividends): \n",
    "    np.seterr(all='print')\n",
    "    # Sharesoutstanding\n",
    "    shares_outstanding = sharesOutstanding(stats)\n",
    "    \n",
    "    #Book Value\n",
    "    bookValue = bookValues(balancesheets, lastBalancesheet) \n",
    "    \n",
    "    # Current Year Book Value \n",
    "    currentYearBookValue = 0\n",
    "    period = len(bookValue)\n",
    "    if period >0:\n",
    "        currentYearBookValue = bookValue[0]\n",
    "    \n",
    "    # Book value growth rate\n",
    "    bookValueGrowthRate = CAGR(bookValue)\n",
    "    adjustedbookValueGrowthRate = .1\n",
    "    if bookValueGrowthRate > .05:\n",
    "        adjustedbookValueGrowthRate =  bookValueGrowthRate\n",
    "    \n",
    "    # Future Book Value\n",
    "    futureBookValue = futureValue(currentYearBookValue, len(bookValue), adjustedbookValueGrowthRate)\n",
    "    print(futureBookValue)\n",
    "    \n",
    "    # Annual Dividend\n",
    "    annualDividend = avgDividends(dividends)\n",
    "\n",
    "    \n",
    "    # Dicount Rate 10y fed note \n",
    "    dicountRate10YearFedNote = .0068\n",
    "    #B14*((1-(1/(1+B15)^10))/B15)+(B21/(1+B15)^10))\n",
    "    return annualDividend*((1-(1/(1+ dicountRate10YearFedNote)**period))/dicountRate10YearFedNote)+(futureBookValue/(1+dicountRate10YearFedNote)**period)\n",
    " "
   ]
  },
  {
   "cell_type": "code",
   "execution_count": 29,
   "metadata": {
    "code_folding": []
   },
   "outputs": [
    {
     "name": "stdout",
     "output_type": "stream",
     "text": [
      "40.13081596631065\n"
     ]
    },
    {
     "data": {
      "text/html": [
       "<div>\n",
       "<style scoped>\n",
       "    .dataframe tbody tr th:only-of-type {\n",
       "        vertical-align: middle;\n",
       "    }\n",
       "\n",
       "    .dataframe tbody tr th {\n",
       "        vertical-align: top;\n",
       "    }\n",
       "\n",
       "    .dataframe thead th {\n",
       "        text-align: right;\n",
       "    }\n",
       "</style>\n",
       "<table border=\"1\" class=\"dataframe\">\n",
       "  <thead>\n",
       "    <tr style=\"text-align: right;\">\n",
       "      <th></th>\n",
       "      <th>Ticker</th>\n",
       "      <th>price</th>\n",
       "      <th>Book Value Dividend</th>\n",
       "    </tr>\n",
       "  </thead>\n",
       "  <tbody>\n",
       "    <tr>\n",
       "      <th>0</th>\n",
       "      <td>DAL</td>\n",
       "      <td>31.7</td>\n",
       "      <td>({'IV': 40.17}, {'MS %': 21.1}, {'AR %': 12.6})</td>\n",
       "    </tr>\n",
       "  </tbody>\n",
       "</table>\n",
       "</div>"
      ],
      "text/plain": [
       "  Ticker  price                              Book Value Dividend\n",
       "0    DAL   31.7  ({'IV': 40.17}, {'MS %': 21.1}, {'AR %': 12.6})"
      ]
     },
     "execution_count": 29,
     "metadata": {},
     "output_type": "execute_result"
    }
   ],
   "source": [
    "tickers = ['DAL']\n",
    "dataSet = [] \n",
    "for ticker in tickers:\n",
    "    data = {} \n",
    "    \n",
    "    # API calls\n",
    "    balancesheets = callApi(\"balance-sheet\", ticker, True)\n",
    "    balancesheet = callApi(\"balance-sheet\", ticker)\n",
    "    stats = callApi(\"stats\", ticker)\n",
    "    dividends = callApi(\"dividends\", ticker)\n",
    "    price = callApi(\"price\", ticker)\n",
    "    data[\"Ticker\"] = ticker\n",
    "    data[\"price\"] = price\n",
    "    \n",
    "    #Book value growth and dividend valuation\n",
    "    intrinsicValue =  BookValueGrowth_DividendValuation(balancesheets, balancesheet, stats, dividends)\n",
    "    marginOfsafety = 1 - (float(price)/ intrinsicValue)\n",
    "    annualReturn = CAGR([intrinsicValue, float(price)])\n",
    "    data[\"Book Value Dividend\"] =  {\"IV\": round(intrinsicValue, 2)},{\"MS %\": round(marginOfsafety *100,1) },{\"AR %\": round(annualReturn *100, 1)}\n",
    "    dataSet.append(data.copy())\n",
    "pd.DataFrame(dataSet) "
   ]
  },
  {
   "cell_type": "code",
   "execution_count": 8,
   "metadata": {},
   "outputs": [],
   "source": [
    "IntrinsicValue('AAPL')"
   ]
  },
  {
   "cell_type": "code",
   "execution_count": null,
   "metadata": {},
   "outputs": [],
   "source": []
  }
 ],
 "metadata": {
  "kernelspec": {
   "display_name": "Python 3",
   "language": "python",
   "name": "python3"
  },
  "language_info": {
   "codemirror_mode": {
    "name": "ipython",
    "version": 3
   },
   "file_extension": ".py",
   "mimetype": "text/x-python",
   "name": "python",
   "nbconvert_exporter": "python",
   "pygments_lexer": "ipython3",
   "version": "3.7.3"
  }
 },
 "nbformat": 4,
 "nbformat_minor": 4
}
